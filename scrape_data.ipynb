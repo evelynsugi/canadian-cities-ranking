{
 "cells": [
  {
   "cell_type": "markdown",
   "id": "512dc1e9-f4ee-4ad5-8bab-500db30e3dd2",
   "metadata": {},
   "source": [
    "# Scrape Cost of Living Information From Numbeo.com"
   ]
  },
  {
   "cell_type": "markdown",
   "id": "12bde828-52e1-4bbb-bbc8-2b9a3bafc05f",
   "metadata": {},
   "source": [
    "First, import the necessary libraries."
   ]
  },
  {
   "cell_type": "code",
   "execution_count": 1,
   "id": "941efd4c-3ae1-4d6a-a306-16a103467d54",
   "metadata": {},
   "outputs": [],
   "source": [
    "import pandas as pd\n",
    "import requests\n",
    "from bs4 import BeautifulSoup\n",
    "import time"
   ]
  },
  {
   "cell_type": "markdown",
   "id": "d98c5bca-c6f9-4b0d-b7ec-f11c7535d5a9",
   "metadata": {},
   "source": [
    "Create a list of all city names in Canada. This will be appended to the url to get a specific url for each cities."
   ]
  },
  {
   "cell_type": "code",
   "execution_count": 2,
   "id": "9a299af9-67d4-4910-beae-7addb065a758",
   "metadata": {},
   "outputs": [],
   "source": [
    "# Make request\n",
    "import requests\n",
    "cities_requests = requests.get(\"https://www.numbeo.com/cost-of-living/country_result.jsp?country=Canada\")\n",
    "\n",
    "# Create BeautifulSoup object\n",
    "from bs4 import BeautifulSoup\n",
    "cities_soup = BeautifulSoup(cities_requests.text)\n",
    "\n",
    "# Get list of city names\n",
    "cities = [cities_soup.find(\"select\").find_all(\"option\")[j].text for j in range(len(cities_soup.find(\"select\").find_all(\"option\")))]"
   ]
  },
  {
   "cell_type": "markdown",
   "id": "98512620-a6db-424e-be7a-10f50a933df2",
   "metadata": {},
   "source": [
    "Minor adjustments to city names that will be appended to the url. "
   ]
  },
  {
   "cell_type": "code",
   "execution_count": 3,
   "id": "5864eaab-49d1-4fa7-8017-80ea8c3f24d7",
   "metadata": {},
   "outputs": [],
   "source": [
    "# Adjust city names to be appended as url\n",
    "cities = cities[1:]\n",
    "cities = [city.replace(\", \", \"-\").replace(\" \",\"-\") for city in cities]\n",
    "\n",
    "cities_canada = cities.copy()\n",
    "cities_canada = [city_canada+\"-Canada\" for city_canada in cities_canada]\n",
    "\n",
    "cities = cities + cities_canada"
   ]
  },
  {
   "cell_type": "markdown",
   "id": "01fcb6ad-3304-4c4f-8d70-d930dab1d8a1",
   "metadata": {},
   "source": [
    "From numbeo.com, scrape the cost of living for cities in Canada and present the results in a data frame. If there is no url for a specific city, it will be skipped."
   ]
  },
  {
   "cell_type": "code",
   "execution_count": 4,
   "id": "c89e5cfb-d501-47be-83e7-4113219dbcbc",
   "metadata": {},
   "outputs": [],
   "source": [
    "costofliving = pd.DataFrame()\n",
    "for city in cities:\n",
    "    try:\n",
    "        # Make request\n",
    "        col_requests = requests.get(\"https://www.numbeo.com/cost-of-living/in/\"+city)\n",
    "\n",
    "        # Create BeautifulSoup object\n",
    "        col = BeautifulSoup(col_requests.text)\n",
    "\n",
    "        # Get city and country\n",
    "        try:\n",
    "            city, country = col.find(\"span\", {\"class\":\"purple_light\"}).text.split(\",\")\n",
    "        except:\n",
    "            city, country = city, \"Canada\"\n",
    "\n",
    "        # Find the living cost table\n",
    "        table = col.find(\"table\", {\"class\":\"data_wide_table new_bar_table\"})\n",
    "\n",
    "        # Get item and cost\n",
    "        table_item_cost = table.find_all(\"td\")\n",
    "        item = list()\n",
    "        cost = list()\n",
    "        for i in range(len(table_item_cost)):\n",
    "            if i % 3 == 0:\n",
    "                item.append(table_item_cost[i].text)\n",
    "            if i % 3 == 1:\n",
    "                cost.append(float(table_item_cost[i].text.split()[0].replace(\",\",\"\")))\n",
    "\n",
    "        # Store result in dataframe\n",
    "        df1 = pd.DataFrame({'city':[city], 'country':[country]})\n",
    "        df2 = pd.DataFrame({item[j]:[cost[j]] for j in range(len(item))})\n",
    "        df = pd.concat([df1,df2], axis=1)\n",
    "        costofliving = pd.concat([costofliving,df], axis=0)\n",
    "\n",
    "    except:\n",
    "        pass\n",
    "\n",
    "    time.sleep(.1)\n",
    "\n",
    "costofliving = costofliving.reset_index(drop=True)"
   ]
  },
  {
   "cell_type": "markdown",
   "id": "822982ad-81ae-439f-880f-a4566dd94e32",
   "metadata": {},
   "source": [
    "Some city names can be found outside of Canada (e.g. London, UK), so here I removed rows which country is not Canada."
   ]
  },
  {
   "cell_type": "code",
   "execution_count": 5,
   "id": "3fafd4e1-193c-46be-9f8e-439d16f58150",
   "metadata": {},
   "outputs": [],
   "source": [
    "# Remove countries that is not Canada\n",
    "costofliving['country'] = [row.strip().replace('ON', 'Canada').replace('BC','Canada') for row in costofliving['country']]\n",
    "costofliving = costofliving[costofliving['country'] == 'Canada']\n",
    "costofliving['city'] = [row.strip() for row in costofliving['city']]\n",
    "costofliving = costofliving.drop_duplicates(subset=['city'])"
   ]
  },
  {
   "cell_type": "markdown",
   "id": "cd826dfa-ec44-4bc3-a892-4f9199a6dcc9",
   "metadata": {},
   "source": [
    "Write the results to a csv file."
   ]
  },
  {
   "cell_type": "code",
   "execution_count": 6,
   "id": "861ef87e-1849-47bd-a6ef-23c90eb83d1c",
   "metadata": {},
   "outputs": [],
   "source": [
    "costofliving.to_csv(\"costofliving.csv\", index=False)"
   ]
  },
  {
   "cell_type": "code",
   "execution_count": null,
   "id": "3a3934f3-cada-4f90-ae89-815078a4fd9b",
   "metadata": {},
   "outputs": [],
   "source": []
  }
 ],
 "metadata": {
  "kernelspec": {
   "display_name": "Python 3 (ipykernel)",
   "language": "python",
   "name": "python3"
  },
  "language_info": {
   "codemirror_mode": {
    "name": "ipython",
    "version": 3
   },
   "file_extension": ".py",
   "mimetype": "text/x-python",
   "name": "python",
   "nbconvert_exporter": "python",
   "pygments_lexer": "ipython3",
   "version": "3.9.5"
  }
 },
 "nbformat": 4,
 "nbformat_minor": 5
}
