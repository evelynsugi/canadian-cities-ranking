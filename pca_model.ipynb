{
 "cells": [
  {
   "cell_type": "markdown",
   "id": "675f9a10-e2a1-4819-a51d-43bbbc63da34",
   "metadata": {},
   "source": [
    "# PCA Model for Cost of Living Information"
   ]
  },
  {
   "cell_type": "markdown",
   "id": "9e9956f6-7537-42ab-b344-b6d8231321d3",
   "metadata": {},
   "source": [
    "Load necessary libraries:"
   ]
  },
  {
   "cell_type": "code",
   "execution_count": 19,
   "id": "7598ebea-ae9f-465a-a9f7-c0fcf220aa27",
   "metadata": {},
   "outputs": [],
   "source": [
    "library(dplyr)"
   ]
  },
  {
   "cell_type": "markdown",
   "id": "30ae1950-3053-4ecb-91e6-5d60cf6e3e9a",
   "metadata": {},
   "source": [
    "First, read the data from 'costofliving.csv'. This is the scraped data obtained from 'scrape_data.ipynb'."
   ]
  },
  {
   "cell_type": "code",
   "execution_count": 2,
   "id": "d1e4c86f-ea92-42c8-9be9-e25fb1781e3d",
   "metadata": {},
   "outputs": [],
   "source": [
    "costofliving <- read.csv(\"costofliving.csv\")\n",
    "data <- costofliving[,-1]\n",
    "rownames(data) <- costofliving[,1]\n",
    "data <- data[,-c(1,54,55)]"
   ]
  },
  {
   "cell_type": "markdown",
   "id": "51915b15-7704-4ea8-a923-6513ff11c894",
   "metadata": {},
   "source": [
    "Next, fit a PCA model to the data and output the summary and scree plot."
   ]
  },
  {
   "cell_type": "code",
   "execution_count": 3,
   "id": "a879ad14-fe3a-4f4d-826f-79e09cc313aa",
   "metadata": {},
   "outputs": [
    {
     "data": {
      "text/plain": [
       "Importance of components:\n",
       "                          PC1    PC2     PC3     PC4     PC5     PC6     PC7\n",
       "Standard deviation     2.8135 2.6839 2.03390 1.74686 1.67218 1.51459 1.42505\n",
       "Proportion of Variance 0.1522 0.1385 0.07955 0.05868 0.05377 0.04412 0.03905\n",
       "Cumulative Proportion  0.1522 0.2908 0.37030 0.42898 0.48276 0.52687 0.56592\n",
       "                           PC8     PC9    PC10    PC11    PC12    PC13    PC14\n",
       "Standard deviation     1.38287 1.30222 1.26026 1.21909 1.17100 1.14044 1.02062\n",
       "Proportion of Variance 0.03678 0.03261 0.03054 0.02858 0.02637 0.02501 0.02003\n",
       "Cumulative Proportion  0.60270 0.63531 0.66585 0.69444 0.72081 0.74582 0.76585\n",
       "                          PC15    PC16    PC17    PC18   PC19   PC20    PC21\n",
       "Standard deviation     1.01548 0.98677 0.93308 0.91377 0.8802 0.8409 0.78156\n",
       "Proportion of Variance 0.01983 0.01873 0.01674 0.01606 0.0149 0.0136 0.01175\n",
       "Cumulative Proportion  0.78568 0.80440 0.82115 0.83720 0.8521 0.8657 0.87745\n",
       "                          PC22    PC23    PC24    PC25    PC26    PC27    PC28\n",
       "Standard deviation     0.76236 0.73468 0.69305 0.69011 0.66650 0.64561 0.63077\n",
       "Proportion of Variance 0.01118 0.01038 0.00924 0.00916 0.00854 0.00802 0.00765\n",
       "Cumulative Proportion  0.88862 0.89900 0.90824 0.91740 0.92594 0.93396 0.94161\n",
       "                          PC29    PC30    PC31    PC32    PC33    PC34    PC35\n",
       "Standard deviation     0.60221 0.57152 0.54192 0.52076 0.49239 0.44884 0.43720\n",
       "Proportion of Variance 0.00697 0.00628 0.00565 0.00522 0.00466 0.00387 0.00368\n",
       "Cumulative Proportion  0.94858 0.95487 0.96051 0.96573 0.97039 0.97426 0.97794\n",
       "                         PC36    PC37    PC38    PC39    PC40    PC41    PC42\n",
       "Standard deviation     0.4140 0.38259 0.37050 0.32554 0.31242 0.28938 0.27444\n",
       "Proportion of Variance 0.0033 0.00281 0.00264 0.00204 0.00188 0.00161 0.00145\n",
       "Cumulative Proportion  0.9812 0.98405 0.98669 0.98873 0.99061 0.99222 0.99366\n",
       "                          PC43    PC44    PC45    PC46    PC47   PC48    PC49\n",
       "Standard deviation     0.26791 0.24584 0.22659 0.18423 0.17480 0.1619 0.15129\n",
       "Proportion of Variance 0.00138 0.00116 0.00099 0.00065 0.00059 0.0005 0.00044\n",
       "Cumulative Proportion  0.99504 0.99621 0.99719 0.99785 0.99843 0.9989 0.99938\n",
       "                          PC50   PC51    PC52\n",
       "Standard deviation     0.12773 0.1026 0.07386\n",
       "Proportion of Variance 0.00031 0.0002 0.00010\n",
       "Cumulative Proportion  0.99969 0.9999 1.00000"
      ]
     },
     "metadata": {},
     "output_type": "display_data"
    }
   ],
   "source": [
    "pcamod <- prcomp(data, scale.=TRUE)\n",
    "summary(pcamod)"
   ]
  },
  {
   "cell_type": "code",
   "execution_count": 4,
   "id": "075b4321-0948-41ee-81d3-1a04bd9d731e",
   "metadata": {},
   "outputs": [
    {
     "data": {
      "image/png": "[encoded data removed]",
      "text/plain": [
       "Plot with title \"pcamod\""
      ]
     },
     "metadata": {
      "image/png": {
       "height": 420,
       "width": 420
      }
     },
     "output_type": "display_data"
    }
   ],
   "source": [
    "plot(pcamod, type=\"lines\", npcs=53)"
   ]
  },
  {
   "cell_type": "markdown",
   "id": "b49c224e-cf0a-4b33-b2c7-9a7d27a5e136",
   "metadata": {},
   "source": [
    "Based on the summary output, if we want to retain 90% of the variance, 24 components should be retained. Whereas, based on the kaiser criterion, 15 components should be retained. Lastly, based on the scree plot, 4 components should be retained as the jump from 4 to 5 components is not too big.\n",
    "\n",
    "For simplicity, I will retain 4 components based on the scree plot and interpret them. Below is a summary of the first four components' loadings. "
   ]
  },
  {
   "cell_type": "code",
   "execution_count": 5,
   "id": "abf9fc5c-d194-4834-9910-ad72d00a1c4d",
   "metadata": {},
   "outputs": [
    {
     "data": {
      "text/html": [
       "<table class=\"dataframe\">\n",
       "<caption>A matrix: 52 × 4 of type dbl</caption>\n",
       "<thead>\n",
       "\t<tr><th></th><th scope=col>PC1</th><th scope=col>PC2</th><th scope=col>PC3</th><th scope=col>PC4</th></tr>\n",
       "</thead>\n",
       "<tbody>\n",
       "\t<tr><th scope=row>Meal..Inexpensive.Restaurant.</th><td>-0.10</td><td> 0.00</td><td>-0.21</td><td>-0.21</td></tr>\n",
       "\t<tr><th scope=row>Meal.for.2.People..Mid.range.Restaurant..Three.course.</th><td>-0.17</td><td> 0.12</td><td> 0.00</td><td>-0.05</td></tr>\n",
       "\t<tr><th scope=row>McMeal.at.McDonalds..or.Equivalent.Combo.Meal.</th><td> 0.02</td><td> 0.10</td><td>-0.13</td><td>-0.03</td></tr>\n",
       "\t<tr><th scope=row>Domestic.Beer..0.5.liter.draught.</th><td>-0.11</td><td> 0.08</td><td>-0.15</td><td>-0.16</td></tr>\n",
       "\t<tr><th scope=row>Imported.Beer..0.33.liter.bottle.</th><td> 0.07</td><td>-0.15</td><td>-0.05</td><td> 0.17</td></tr>\n",
       "\t<tr><th scope=row>Cappuccino..regular.</th><td>-0.04</td><td>-0.08</td><td>-0.20</td><td>-0.26</td></tr>\n",
       "\t<tr><th scope=row>Coke.Pepsi..0.33.liter.bottle.</th><td> 0.02</td><td>-0.12</td><td>-0.08</td><td>-0.11</td></tr>\n",
       "\t<tr><th scope=row>Water..0.33.liter.bottle.</th><td>-0.04</td><td>-0.09</td><td>-0.18</td><td>-0.22</td></tr>\n",
       "\t<tr><th scope=row>Milk..regular....1.liter..</th><td>-0.12</td><td>-0.08</td><td>-0.05</td><td> 0.10</td></tr>\n",
       "\t<tr><th scope=row>Loaf.of.Fresh.White.Bread..500g.</th><td>-0.03</td><td>-0.19</td><td>-0.03</td><td>-0.02</td></tr>\n",
       "\t<tr><th scope=row>Rice..white....1kg..</th><td>-0.05</td><td>-0.22</td><td>-0.08</td><td>-0.03</td></tr>\n",
       "\t<tr><th scope=row>Eggs..regular...12.</th><td>-0.19</td><td>-0.20</td><td>-0.06</td><td> 0.04</td></tr>\n",
       "\t<tr><th scope=row>Local.Cheese..1kg.</th><td>-0.06</td><td>-0.11</td><td>-0.05</td><td> 0.06</td></tr>\n",
       "\t<tr><th scope=row>Chicken.Fillets..1kg.</th><td>-0.16</td><td>-0.17</td><td>-0.04</td><td> 0.17</td></tr>\n",
       "\t<tr><th scope=row>Beef.Round..1kg...or.Equivalent.Back.Leg.Red.Meat.</th><td>-0.15</td><td>-0.13</td><td>-0.07</td><td> 0.24</td></tr>\n",
       "\t<tr><th scope=row>Apples..1kg.</th><td> 0.04</td><td>-0.25</td><td> 0.17</td><td>-0.01</td></tr>\n",
       "\t<tr><th scope=row>Banana..1kg.</th><td> 0.02</td><td>-0.16</td><td>-0.08</td><td> 0.12</td></tr>\n",
       "\t<tr><th scope=row>Oranges..1kg.</th><td>-0.02</td><td>-0.25</td><td> 0.13</td><td>-0.05</td></tr>\n",
       "\t<tr><th scope=row>Tomato..1kg.</th><td>-0.07</td><td>-0.16</td><td> 0.13</td><td>-0.11</td></tr>\n",
       "\t<tr><th scope=row>Potato..1kg.</th><td> 0.01</td><td>-0.18</td><td>-0.09</td><td> 0.14</td></tr>\n",
       "\t<tr><th scope=row>Onion..1kg.</th><td>-0.01</td><td>-0.24</td><td> 0.16</td><td>-0.09</td></tr>\n",
       "\t<tr><th scope=row>Lettuce..1.head.</th><td>-0.07</td><td>-0.24</td><td> 0.01</td><td>-0.11</td></tr>\n",
       "\t<tr><th scope=row>Water..1.5.liter.bottle.</th><td>-0.05</td><td>-0.15</td><td>-0.12</td><td>-0.14</td></tr>\n",
       "\t<tr><th scope=row>Bottle.of.Wine..Mid.Range.</th><td>-0.09</td><td>-0.13</td><td>-0.19</td><td>-0.09</td></tr>\n",
       "\t<tr><th scope=row>Domestic.Beer..0.5.liter.bottle.</th><td> 0.00</td><td>-0.13</td><td>-0.12</td><td> 0.25</td></tr>\n",
       "\t<tr><th scope=row>Cigarettes.20.Pack..Marlboro.</th><td>-0.15</td><td>-0.13</td><td> 0.03</td><td> 0.11</td></tr>\n",
       "\t<tr><th scope=row>One.way.Ticket..Local.Transport.</th><td>-0.01</td><td> 0.17</td><td> 0.03</td><td> 0.22</td></tr>\n",
       "\t<tr><th scope=row>Monthly.Pass..Regular.Price.</th><td>-0.13</td><td> 0.23</td><td> 0.08</td><td> 0.18</td></tr>\n",
       "\t<tr><th scope=row>Taxi.Start..Normal.Tariff.</th><td> 0.04</td><td>-0.15</td><td> 0.21</td><td>-0.13</td></tr>\n",
       "\t<tr><th scope=row>Taxi.1km..Normal.Tariff.</th><td>-0.04</td><td>-0.12</td><td> 0.10</td><td>-0.24</td></tr>\n",
       "\t<tr><th scope=row>Taxi.1hour.Waiting..Normal.Tariff.</th><td> 0.02</td><td> 0.08</td><td>-0.26</td><td> 0.11</td></tr>\n",
       "\t<tr><th scope=row>Gasoline..1.liter.</th><td>-0.16</td><td> 0.02</td><td>-0.22</td><td> 0.08</td></tr>\n",
       "\t<tr><th scope=row>Volkswagen.Golf.1.4.90.KW.Trendline..Or.Equivalent.New.Car.</th><td>-0.06</td><td>-0.22</td><td> 0.10</td><td> 0.09</td></tr>\n",
       "\t<tr><th scope=row>Toyota.Corolla.Sedan.1.6l.97kW.Comfort..Or.Equivalent.New.Car.</th><td>-0.08</td><td>-0.20</td><td>-0.05</td><td> 0.29</td></tr>\n",
       "\t<tr><th scope=row>Basic..Electricity..Heating..Cooling..Water..Garbage..for.85m2.Apartment.</th><td> 0.07</td><td>-0.06</td><td> 0.20</td><td> 0.08</td></tr>\n",
       "\t<tr><th scope=row>X1.min..of.Prepaid.Mobile.Tariff.Local..No.Discounts.or.Plans.</th><td>-0.08</td><td> 0.01</td><td> 0.07</td><td> 0.25</td></tr>\n",
       "\t<tr><th scope=row>Internet..60.Mbps.or.More..Unlimited.Data..Cable.ADSL..</th><td>-0.05</td><td>-0.22</td><td> 0.07</td><td> 0.03</td></tr>\n",
       "\t<tr><th scope=row>Fitness.Club..Monthly.Fee.for.1.Adult.</th><td>-0.12</td><td>-0.08</td><td> 0.07</td><td>-0.17</td></tr>\n",
       "\t<tr><th scope=row>Tennis.Court.Rent..1.Hour.on.Weekend.</th><td>-0.05</td><td> 0.06</td><td>-0.11</td><td> 0.24</td></tr>\n",
       "\t<tr><th scope=row>Cinema..International.Release..1.Seat.</th><td>-0.22</td><td>-0.03</td><td> 0.10</td><td> 0.14</td></tr>\n",
       "\t<tr><th scope=row>Preschool..or.Kindergarten...Full.Day..Private..Monthly.for.1.Child.</th><td>-0.23</td><td> 0.05</td><td> 0.10</td><td> 0.06</td></tr>\n",
       "\t<tr><th scope=row>International.Primary.School..Yearly.for.1.Child.</th><td>-0.09</td><td> 0.05</td><td> 0.21</td><td> 0.11</td></tr>\n",
       "\t<tr><th scope=row>X1.Pair.of.Jeans..Levis.501.Or.Similar.</th><td>-0.10</td><td>-0.09</td><td>-0.34</td><td> 0.08</td></tr>\n",
       "\t<tr><th scope=row>X1.Summer.Dress.in.a.Chain.Store..Zara..H.M.......</th><td>-0.05</td><td> 0.08</td><td>-0.20</td><td>-0.02</td></tr>\n",
       "\t<tr><th scope=row>X1.Pair.of.Nike.Running.Shoes..Mid.Range.</th><td>-0.12</td><td> 0.02</td><td>-0.21</td><td>-0.01</td></tr>\n",
       "\t<tr><th scope=row>X1.Pair.of.Men.Leather.Business.Shoes</th><td>-0.08</td><td>-0.01</td><td>-0.27</td><td>-0.08</td></tr>\n",
       "\t<tr><th scope=row>Apartment..1.bedroom..in.City.Centre</th><td>-0.31</td><td> 0.13</td><td> 0.08</td><td>-0.06</td></tr>\n",
       "\t<tr><th scope=row>Apartment..1.bedroom..Outside.of.Centre</th><td>-0.32</td><td> 0.08</td><td> 0.11</td><td>-0.03</td></tr>\n",
       "\t<tr><th scope=row>Apartment..3.bedrooms..in.City.Centre</th><td>-0.31</td><td> 0.07</td><td> 0.09</td><td>-0.12</td></tr>\n",
       "\t<tr><th scope=row>Apartment..3.bedrooms..Outside.of.Centre</th><td>-0.31</td><td> 0.04</td><td> 0.12</td><td>-0.11</td></tr>\n",
       "\t<tr><th scope=row>Price.per.Square.Meter.to.Buy.Apartment.in.City.Centre</th><td>-0.29</td><td> 0.10</td><td> 0.05</td><td>-0.07</td></tr>\n",
       "\t<tr><th scope=row>Price.per.Square.Meter.to.Buy.Apartment.Outside.of.Centre</th><td>-0.29</td><td> 0.05</td><td> 0.00</td><td> 0.04</td></tr>\n",
       "</tbody>\n",
       "</table>\n"
      ],
      "text/latex": [
       "A matrix: 52 × 4 of type dbl\n",
       "\\begin{tabular}{r|llll}\n",
       "  & PC1 & PC2 & PC3 & PC4\\\\\n",
       "\\hline\n",
       "\tMeal..Inexpensive.Restaurant. & -0.10 &  0.00 & -0.21 & -0.21\\\\\n",
       "\tMeal.for.2.People..Mid.range.Restaurant..Three.course. & -0.17 &  0.12 &  0.00 & -0.05\\\\\n",
       "\tMcMeal.at.McDonalds..or.Equivalent.Combo.Meal. &  0.02 &  0.10 & -0.13 & -0.03\\\\\n",
       "\tDomestic.Beer..0.5.liter.draught. & -0.11 &  0.08 & -0.15 & -0.16\\\\\n",
       "\tImported.Beer..0.33.liter.bottle. &  0.07 & -0.15 & -0.05 &  0.17\\\\\n",
       "\tCappuccino..regular. & -0.04 & -0.08 & -0.20 & -0.26\\\\\n",
       "\tCoke.Pepsi..0.33.liter.bottle. &  0.02 & -0.12 & -0.08 & -0.11\\\\\n",
       "\tWater..0.33.liter.bottle. & -0.04 & -0.09 & -0.18 & -0.22\\\\\n",
       "\tMilk..regular....1.liter.. & -0.12 & -0.08 & -0.05 &  0.10\\\\\n",
       "\tLoaf.of.Fresh.White.Bread..500g. & -0.03 & -0.19 & -0.03 & -0.02\\\\\n",
       "\tRice..white....1kg.. & -0.05 & -0.22 & -0.08 & -0.03\\\\\n",
       "\tEggs..regular...12. & -0.19 & -0.20 & -0.06 &  0.04\\\\\n",
       "\tLocal.Cheese..1kg. & -0.06 & -0.11 & -0.05 &  0.06\\\\\n",
       "\tChicken.Fillets..1kg. & -0.16 & -0.17 & -0.04 &  0.17\\\\\n",
       "\tBeef.Round..1kg...or.Equivalent.Back.Leg.Red.Meat. & -0.15 & -0.13 & -0.07 &  0.24\\\\\n",
       "\tApples..1kg. &  0.04 & -0.25 &  0.17 & -0.01\\\\\n",
       "\tBanana..1kg. &  0.02 & -0.16 & -0.08 &  0.12\\\\\n",
       "\tOranges..1kg. & -0.02 & -0.25 &  0.13 & -0.05\\\\\n",
       "\tTomato..1kg. & -0.07 & -0.16 &  0.13 & -0.11\\\\\n",
       "\tPotato..1kg. &  0.01 & -0.18 & -0.09 &  0.14\\\\\n",
       "\tOnion..1kg. & -0.01 & -0.24 &  0.16 & -0.09\\\\\n",
       "\tLettuce..1.head. & -0.07 & -0.24 &  0.01 & -0.11\\\\\n",
       "\tWater..1.5.liter.bottle. & -0.05 & -0.15 & -0.12 & -0.14\\\\\n",
       "\tBottle.of.Wine..Mid.Range. & -0.09 & -0.13 & -0.19 & -0.09\\\\\n",
       "\tDomestic.Beer..0.5.liter.bottle. &  0.00 & -0.13 & -0.12 &  0.25\\\\\n",
       "\tCigarettes.20.Pack..Marlboro. & -0.15 & -0.13 &  0.03 &  0.11\\\\\n",
       "\tOne.way.Ticket..Local.Transport. & -0.01 &  0.17 &  0.03 &  0.22\\\\\n",
       "\tMonthly.Pass..Regular.Price. & -0.13 &  0.23 &  0.08 &  0.18\\\\\n",
       "\tTaxi.Start..Normal.Tariff. &  0.04 & -0.15 &  0.21 & -0.13\\\\\n",
       "\tTaxi.1km..Normal.Tariff. & -0.04 & -0.12 &  0.10 & -0.24\\\\\n",
       "\tTaxi.1hour.Waiting..Normal.Tariff. &  0.02 &  0.08 & -0.26 &  0.11\\\\\n",
       "\tGasoline..1.liter. & -0.16 &  0.02 & -0.22 &  0.08\\\\\n",
       "\tVolkswagen.Golf.1.4.90.KW.Trendline..Or.Equivalent.New.Car. & -0.06 & -0.22 &  0.10 &  0.09\\\\\n",
       "\tToyota.Corolla.Sedan.1.6l.97kW.Comfort..Or.Equivalent.New.Car. & -0.08 & -0.20 & -0.05 &  0.29\\\\\n",
       "\tBasic..Electricity..Heating..Cooling..Water..Garbage..for.85m2.Apartment. &  0.07 & -0.06 &  0.20 &  0.08\\\\\n",
       "\tX1.min..of.Prepaid.Mobile.Tariff.Local..No.Discounts.or.Plans. & -0.08 &  0.01 &  0.07 &  0.25\\\\\n",
       "\tInternet..60.Mbps.or.More..Unlimited.Data..Cable.ADSL.. & -0.05 & -0.22 &  0.07 &  0.03\\\\\n",
       "\tFitness.Club..Monthly.Fee.for.1.Adult. & -0.12 & -0.08 &  0.07 & -0.17\\\\\n",
       "\tTennis.Court.Rent..1.Hour.on.Weekend. & -0.05 &  0.06 & -0.11 &  0.24\\\\\n",
       "\tCinema..International.Release..1.Seat. & -0.22 & -0.03 &  0.10 &  0.14\\\\\n",
       "\tPreschool..or.Kindergarten...Full.Day..Private..Monthly.for.1.Child. & -0.23 &  0.05 &  0.10 &  0.06\\\\\n",
       "\tInternational.Primary.School..Yearly.for.1.Child. & -0.09 &  0.05 &  0.21 &  0.11\\\\\n",
       "\tX1.Pair.of.Jeans..Levis.501.Or.Similar. & -0.10 & -0.09 & -0.34 &  0.08\\\\\n",
       "\tX1.Summer.Dress.in.a.Chain.Store..Zara..H.M....... & -0.05 &  0.08 & -0.20 & -0.02\\\\\n",
       "\tX1.Pair.of.Nike.Running.Shoes..Mid.Range. & -0.12 &  0.02 & -0.21 & -0.01\\\\\n",
       "\tX1.Pair.of.Men.Leather.Business.Shoes & -0.08 & -0.01 & -0.27 & -0.08\\\\\n",
       "\tApartment..1.bedroom..in.City.Centre & -0.31 &  0.13 &  0.08 & -0.06\\\\\n",
       "\tApartment..1.bedroom..Outside.of.Centre & -0.32 &  0.08 &  0.11 & -0.03\\\\\n",
       "\tApartment..3.bedrooms..in.City.Centre & -0.31 &  0.07 &  0.09 & -0.12\\\\\n",
       "\tApartment..3.bedrooms..Outside.of.Centre & -0.31 &  0.04 &  0.12 & -0.11\\\\\n",
       "\tPrice.per.Square.Meter.to.Buy.Apartment.in.City.Centre & -0.29 &  0.10 &  0.05 & -0.07\\\\\n",
       "\tPrice.per.Square.Meter.to.Buy.Apartment.Outside.of.Centre & -0.29 &  0.05 &  0.00 &  0.04\\\\\n",
       "\\end{tabular}\n"
      ],
      "text/markdown": [
       "\n",
       "A matrix: 52 × 4 of type dbl\n",
       "\n",
       "| <!--/--> | PC1 | PC2 | PC3 | PC4 |\n",
       "|---|---|---|---|---|\n",
       "| Meal..Inexpensive.Restaurant. | -0.10 |  0.00 | -0.21 | -0.21 |\n",
       "| Meal.for.2.People..Mid.range.Restaurant..Three.course. | -0.17 |  0.12 |  0.00 | -0.05 |\n",
       "| McMeal.at.McDonalds..or.Equivalent.Combo.Meal. |  0.02 |  0.10 | -0.13 | -0.03 |\n",
       "| Domestic.Beer..0.5.liter.draught. | -0.11 |  0.08 | -0.15 | -0.16 |\n",
       "| Imported.Beer..0.33.liter.bottle. |  0.07 | -0.15 | -0.05 |  0.17 |\n",
       "| Cappuccino..regular. | -0.04 | -0.08 | -0.20 | -0.26 |\n",
       "| Coke.Pepsi..0.33.liter.bottle. |  0.02 | -0.12 | -0.08 | -0.11 |\n",
       "| Water..0.33.liter.bottle. | -0.04 | -0.09 | -0.18 | -0.22 |\n",
       "| Milk..regular....1.liter.. | -0.12 | -0.08 | -0.05 |  0.10 |\n",
       "| Loaf.of.Fresh.White.Bread..500g. | -0.03 | -0.19 | -0.03 | -0.02 |\n",
       "| Rice..white....1kg.. | -0.05 | -0.22 | -0.08 | -0.03 |\n",
       "| Eggs..regular...12. | -0.19 | -0.20 | -0.06 |  0.04 |\n",
       "| Local.Cheese..1kg. | -0.06 | -0.11 | -0.05 |  0.06 |\n",
       "| Chicken.Fillets..1kg. | -0.16 | -0.17 | -0.04 |  0.17 |\n",
       "| Beef.Round..1kg...or.Equivalent.Back.Leg.Red.Meat. | -0.15 | -0.13 | -0.07 |  0.24 |\n",
       "| Apples..1kg. |  0.04 | -0.25 |  0.17 | -0.01 |\n",
       "| Banana..1kg. |  0.02 | -0.16 | -0.08 |  0.12 |\n",
       "| Oranges..1kg. | -0.02 | -0.25 |  0.13 | -0.05 |\n",
       "| Tomato..1kg. | -0.07 | -0.16 |  0.13 | -0.11 |\n",
       "| Potato..1kg. |  0.01 | -0.18 | -0.09 |  0.14 |\n",
       "| Onion..1kg. | -0.01 | -0.24 |  0.16 | -0.09 |\n",
       "| Lettuce..1.head. | -0.07 | -0.24 |  0.01 | -0.11 |\n",
       "| Water..1.5.liter.bottle. | -0.05 | -0.15 | -0.12 | -0.14 |\n",
       "| Bottle.of.Wine..Mid.Range. | -0.09 | -0.13 | -0.19 | -0.09 |\n",
       "| Domestic.Beer..0.5.liter.bottle. |  0.00 | -0.13 | -0.12 |  0.25 |\n",
       "| Cigarettes.20.Pack..Marlboro. | -0.15 | -0.13 |  0.03 |  0.11 |\n",
       "| One.way.Ticket..Local.Transport. | -0.01 |  0.17 |  0.03 |  0.22 |\n",
       "| Monthly.Pass..Regular.Price. | -0.13 |  0.23 |  0.08 |  0.18 |\n",
       "| Taxi.Start..Normal.Tariff. |  0.04 | -0.15 |  0.21 | -0.13 |\n",
       "| Taxi.1km..Normal.Tariff. | -0.04 | -0.12 |  0.10 | -0.24 |\n",
       "| Taxi.1hour.Waiting..Normal.Tariff. |  0.02 |  0.08 | -0.26 |  0.11 |\n",
       "| Gasoline..1.liter. | -0.16 |  0.02 | -0.22 |  0.08 |\n",
       "| Volkswagen.Golf.1.4.90.KW.Trendline..Or.Equivalent.New.Car. | -0.06 | -0.22 |  0.10 |  0.09 |\n",
       "| Toyota.Corolla.Sedan.1.6l.97kW.Comfort..Or.Equivalent.New.Car. | -0.08 | -0.20 | -0.05 |  0.29 |\n",
       "| Basic..Electricity..Heating..Cooling..Water..Garbage..for.85m2.Apartment. |  0.07 | -0.06 |  0.20 |  0.08 |\n",
       "| X1.min..of.Prepaid.Mobile.Tariff.Local..No.Discounts.or.Plans. | -0.08 |  0.01 |  0.07 |  0.25 |\n",
       "| Internet..60.Mbps.or.More..Unlimited.Data..Cable.ADSL.. | -0.05 | -0.22 |  0.07 |  0.03 |\n",
       "| Fitness.Club..Monthly.Fee.for.1.Adult. | -0.12 | -0.08 |  0.07 | -0.17 |\n",
       "| Tennis.Court.Rent..1.Hour.on.Weekend. | -0.05 |  0.06 | -0.11 |  0.24 |\n",
       "| Cinema..International.Release..1.Seat. | -0.22 | -0.03 |  0.10 |  0.14 |\n",
       "| Preschool..or.Kindergarten...Full.Day..Private..Monthly.for.1.Child. | -0.23 |  0.05 |  0.10 |  0.06 |\n",
       "| International.Primary.School..Yearly.for.1.Child. | -0.09 |  0.05 |  0.21 |  0.11 |\n",
       "| X1.Pair.of.Jeans..Levis.501.Or.Similar. | -0.10 | -0.09 | -0.34 |  0.08 |\n",
       "| X1.Summer.Dress.in.a.Chain.Store..Zara..H.M....... | -0.05 |  0.08 | -0.20 | -0.02 |\n",
       "| X1.Pair.of.Nike.Running.Shoes..Mid.Range. | -0.12 |  0.02 | -0.21 | -0.01 |\n",
       "| X1.Pair.of.Men.Leather.Business.Shoes | -0.08 | -0.01 | -0.27 | -0.08 |\n",
       "| Apartment..1.bedroom..in.City.Centre | -0.31 |  0.13 |  0.08 | -0.06 |\n",
       "| Apartment..1.bedroom..Outside.of.Centre | -0.32 |  0.08 |  0.11 | -0.03 |\n",
       "| Apartment..3.bedrooms..in.City.Centre | -0.31 |  0.07 |  0.09 | -0.12 |\n",
       "| Apartment..3.bedrooms..Outside.of.Centre | -0.31 |  0.04 |  0.12 | -0.11 |\n",
       "| Price.per.Square.Meter.to.Buy.Apartment.in.City.Centre | -0.29 |  0.10 |  0.05 | -0.07 |\n",
       "| Price.per.Square.Meter.to.Buy.Apartment.Outside.of.Centre | -0.29 |  0.05 |  0.00 |  0.04 |\n",
       "\n"
      ],
      "text/plain": [
       "                                                                          PC1  \n",
       "Meal..Inexpensive.Restaurant.                                             -0.10\n",
       "Meal.for.2.People..Mid.range.Restaurant..Three.course.                    -0.17\n",
       "McMeal.at.McDonalds..or.Equivalent.Combo.Meal.                             0.02\n",
       "Domestic.Beer..0.5.liter.draught.                                         -0.11\n",
       "Imported.Beer..0.33.liter.bottle.                                          0.07\n",
       "Cappuccino..regular.                                                      -0.04\n",
       "Coke.Pepsi..0.33.liter.bottle.                                             0.02\n",
       "Water..0.33.liter.bottle.                                                 -0.04\n",
       "Milk..regular....1.liter..                                                -0.12\n",
       "Loaf.of.Fresh.White.Bread..500g.                                          -0.03\n",
       "Rice..white....1kg..                                                      -0.05\n",
       "Eggs..regular...12.                                                       -0.19\n",
       "Local.Cheese..1kg.                                                        -0.06\n",
       "Chicken.Fillets..1kg.                                                     -0.16\n",
       "Beef.Round..1kg...or.Equivalent.Back.Leg.Red.Meat.                        -0.15\n",
       "Apples..1kg.                                                               0.04\n",
       "Banana..1kg.                                                               0.02\n",
       "Oranges..1kg.                                                             -0.02\n",
       "Tomato..1kg.                                                              -0.07\n",
       "Potato..1kg.                                                               0.01\n",
       "Onion..1kg.                                                               -0.01\n",
       "Lettuce..1.head.                                                          -0.07\n",
       "Water..1.5.liter.bottle.                                                  -0.05\n",
       "Bottle.of.Wine..Mid.Range.                                                -0.09\n",
       "Domestic.Beer..0.5.liter.bottle.                                           0.00\n",
       "Cigarettes.20.Pack..Marlboro.                                             -0.15\n",
       "One.way.Ticket..Local.Transport.                                          -0.01\n",
       "Monthly.Pass..Regular.Price.                                              -0.13\n",
       "Taxi.Start..Normal.Tariff.                                                 0.04\n",
       "Taxi.1km..Normal.Tariff.                                                  -0.04\n",
       "Taxi.1hour.Waiting..Normal.Tariff.                                         0.02\n",
       "Gasoline..1.liter.                                                        -0.16\n",
       "Volkswagen.Golf.1.4.90.KW.Trendline..Or.Equivalent.New.Car.               -0.06\n",
       "Toyota.Corolla.Sedan.1.6l.97kW.Comfort..Or.Equivalent.New.Car.            -0.08\n",
       "Basic..Electricity..Heating..Cooling..Water..Garbage..for.85m2.Apartment.  0.07\n",
       "X1.min..of.Prepaid.Mobile.Tariff.Local..No.Discounts.or.Plans.            -0.08\n",
       "Internet..60.Mbps.or.More..Unlimited.Data..Cable.ADSL..                   -0.05\n",
       "Fitness.Club..Monthly.Fee.for.1.Adult.                                    -0.12\n",
       "Tennis.Court.Rent..1.Hour.on.Weekend.                                     -0.05\n",
       "Cinema..International.Release..1.Seat.                                    -0.22\n",
       "Preschool..or.Kindergarten...Full.Day..Private..Monthly.for.1.Child.      -0.23\n",
       "International.Primary.School..Yearly.for.1.Child.                         -0.09\n",
       "X1.Pair.of.Jeans..Levis.501.Or.Similar.                                   -0.10\n",
       "X1.Summer.Dress.in.a.Chain.Store..Zara..H.M.......                        -0.05\n",
       "X1.Pair.of.Nike.Running.Shoes..Mid.Range.                                 -0.12\n",
       "X1.Pair.of.Men.Leather.Business.Shoes                                     -0.08\n",
       "Apartment..1.bedroom..in.City.Centre                                      -0.31\n",
       "Apartment..1.bedroom..Outside.of.Centre                                   -0.32\n",
       "Apartment..3.bedrooms..in.City.Centre                                     -0.31\n",
       "Apartment..3.bedrooms..Outside.of.Centre                                  -0.31\n",
       "Price.per.Square.Meter.to.Buy.Apartment.in.City.Centre                    -0.29\n",
       "Price.per.Square.Meter.to.Buy.Apartment.Outside.of.Centre                 -0.29\n",
       "                                                                          PC2  \n",
       "Meal..Inexpensive.Restaurant.                                              0.00\n",
       "Meal.for.2.People..Mid.range.Restaurant..Three.course.                     0.12\n",
       "McMeal.at.McDonalds..or.Equivalent.Combo.Meal.                             0.10\n",
       "Domestic.Beer..0.5.liter.draught.                                          0.08\n",
       "Imported.Beer..0.33.liter.bottle.                                         -0.15\n",
       "Cappuccino..regular.                                                      -0.08\n",
       "Coke.Pepsi..0.33.liter.bottle.                                            -0.12\n",
       "Water..0.33.liter.bottle.                                                 -0.09\n",
       "Milk..regular....1.liter..                                                -0.08\n",
       "Loaf.of.Fresh.White.Bread..500g.                                          -0.19\n",
       "Rice..white....1kg..                                                      -0.22\n",
       "Eggs..regular...12.                                                       -0.20\n",
       "Local.Cheese..1kg.                                                        -0.11\n",
       "Chicken.Fillets..1kg.                                                     -0.17\n",
       "Beef.Round..1kg...or.Equivalent.Back.Leg.Red.Meat.                        -0.13\n",
       "Apples..1kg.                                                              -0.25\n",
       "Banana..1kg.                                                              -0.16\n",
       "Oranges..1kg.                                                             -0.25\n",
       "Tomato..1kg.                                                              -0.16\n",
       "Potato..1kg.                                                              -0.18\n",
       "Onion..1kg.                                                               -0.24\n",
       "Lettuce..1.head.                                                          -0.24\n",
       "Water..1.5.liter.bottle.                                                  -0.15\n",
       "Bottle.of.Wine..Mid.Range.                                                -0.13\n",
       "Domestic.Beer..0.5.liter.bottle.                                          -0.13\n",
       "Cigarettes.20.Pack..Marlboro.                                             -0.13\n",
       "One.way.Ticket..Local.Transport.                                           0.17\n",
       "Monthly.Pass..Regular.Price.                                               0.23\n",
       "Taxi.Start..Normal.Tariff.                                                -0.15\n",
       "Taxi.1km..Normal.Tariff.                                                  -0.12\n",
       "Taxi.1hour.Waiting..Normal.Tariff.                                         0.08\n",
       "Gasoline..1.liter.                                                         0.02\n",
       "Volkswagen.Golf.1.4.90.KW.Trendline..Or.Equivalent.New.Car.               -0.22\n",
       "Toyota.Corolla.Sedan.1.6l.97kW.Comfort..Or.Equivalent.New.Car.            -0.20\n",
       "Basic..Electricity..Heating..Cooling..Water..Garbage..for.85m2.Apartment. -0.06\n",
       "X1.min..of.Prepaid.Mobile.Tariff.Local..No.Discounts.or.Plans.             0.01\n",
       "Internet..60.Mbps.or.More..Unlimited.Data..Cable.ADSL..                   -0.22\n",
       "Fitness.Club..Monthly.Fee.for.1.Adult.                                    -0.08\n",
       "Tennis.Court.Rent..1.Hour.on.Weekend.                                      0.06\n",
       "Cinema..International.Release..1.Seat.                                    -0.03\n",
       "Preschool..or.Kindergarten...Full.Day..Private..Monthly.for.1.Child.       0.05\n",
       "International.Primary.School..Yearly.for.1.Child.                          0.05\n",
       "X1.Pair.of.Jeans..Levis.501.Or.Similar.                                   -0.09\n",
       "X1.Summer.Dress.in.a.Chain.Store..Zara..H.M.......                         0.08\n",
       "X1.Pair.of.Nike.Running.Shoes..Mid.Range.                                  0.02\n",
       "X1.Pair.of.Men.Leather.Business.Shoes                                     -0.01\n",
       "Apartment..1.bedroom..in.City.Centre                                       0.13\n",
       "Apartment..1.bedroom..Outside.of.Centre                                    0.08\n",
       "Apartment..3.bedrooms..in.City.Centre                                      0.07\n",
       "Apartment..3.bedrooms..Outside.of.Centre                                   0.04\n",
       "Price.per.Square.Meter.to.Buy.Apartment.in.City.Centre                     0.10\n",
       "Price.per.Square.Meter.to.Buy.Apartment.Outside.of.Centre                  0.05\n",
       "                                                                          PC3  \n",
       "Meal..Inexpensive.Restaurant.                                             -0.21\n",
       "Meal.for.2.People..Mid.range.Restaurant..Three.course.                     0.00\n",
       "McMeal.at.McDonalds..or.Equivalent.Combo.Meal.                            -0.13\n",
       "Domestic.Beer..0.5.liter.draught.                                         -0.15\n",
       "Imported.Beer..0.33.liter.bottle.                                         -0.05\n",
       "Cappuccino..regular.                                                      -0.20\n",
       "Coke.Pepsi..0.33.liter.bottle.                                            -0.08\n",
       "Water..0.33.liter.bottle.                                                 -0.18\n",
       "Milk..regular....1.liter..                                                -0.05\n",
       "Loaf.of.Fresh.White.Bread..500g.                                          -0.03\n",
       "Rice..white....1kg..                                                      -0.08\n",
       "Eggs..regular...12.                                                       -0.06\n",
       "Local.Cheese..1kg.                                                        -0.05\n",
       "Chicken.Fillets..1kg.                                                     -0.04\n",
       "Beef.Round..1kg...or.Equivalent.Back.Leg.Red.Meat.                        -0.07\n",
       "Apples..1kg.                                                               0.17\n",
       "Banana..1kg.                                                              -0.08\n",
       "Oranges..1kg.                                                              0.13\n",
       "Tomato..1kg.                                                               0.13\n",
       "Potato..1kg.                                                              -0.09\n",
       "Onion..1kg.                                                                0.16\n",
       "Lettuce..1.head.                                                           0.01\n",
       "Water..1.5.liter.bottle.                                                  -0.12\n",
       "Bottle.of.Wine..Mid.Range.                                                -0.19\n",
       "Domestic.Beer..0.5.liter.bottle.                                          -0.12\n",
       "Cigarettes.20.Pack..Marlboro.                                              0.03\n",
       "One.way.Ticket..Local.Transport.                                           0.03\n",
       "Monthly.Pass..Regular.Price.                                               0.08\n",
       "Taxi.Start..Normal.Tariff.                                                 0.21\n",
       "Taxi.1km..Normal.Tariff.                                                   0.10\n",
       "Taxi.1hour.Waiting..Normal.Tariff.                                        -0.26\n",
       "Gasoline..1.liter.                                                        -0.22\n",
       "Volkswagen.Golf.1.4.90.KW.Trendline..Or.Equivalent.New.Car.                0.10\n",
       "Toyota.Corolla.Sedan.1.6l.97kW.Comfort..Or.Equivalent.New.Car.            -0.05\n",
       "Basic..Electricity..Heating..Cooling..Water..Garbage..for.85m2.Apartment.  0.20\n",
       "X1.min..of.Prepaid.Mobile.Tariff.Local..No.Discounts.or.Plans.             0.07\n",
       "Internet..60.Mbps.or.More..Unlimited.Data..Cable.ADSL..                    0.07\n",
       "Fitness.Club..Monthly.Fee.for.1.Adult.                                     0.07\n",
       "Tennis.Court.Rent..1.Hour.on.Weekend.                                     -0.11\n",
       "Cinema..International.Release..1.Seat.                                     0.10\n",
       "Preschool..or.Kindergarten...Full.Day..Private..Monthly.for.1.Child.       0.10\n",
       "International.Primary.School..Yearly.for.1.Child.                          0.21\n",
       "X1.Pair.of.Jeans..Levis.501.Or.Similar.                                   -0.34\n",
       "X1.Summer.Dress.in.a.Chain.Store..Zara..H.M.......                        -0.20\n",
       "X1.Pair.of.Nike.Running.Shoes..Mid.Range.                                 -0.21\n",
       "X1.Pair.of.Men.Leather.Business.Shoes                                     -0.27\n",
       "Apartment..1.bedroom..in.City.Centre                                       0.08\n",
       "Apartment..1.bedroom..Outside.of.Centre                                    0.11\n",
       "Apartment..3.bedrooms..in.City.Centre                                      0.09\n",
       "Apartment..3.bedrooms..Outside.of.Centre                                   0.12\n",
       "Price.per.Square.Meter.to.Buy.Apartment.in.City.Centre                     0.05\n",
       "Price.per.Square.Meter.to.Buy.Apartment.Outside.of.Centre                  0.00\n",
       "                                                                          PC4  \n",
       "Meal..Inexpensive.Restaurant.                                             -0.21\n",
       "Meal.for.2.People..Mid.range.Restaurant..Three.course.                    -0.05\n",
       "McMeal.at.McDonalds..or.Equivalent.Combo.Meal.                            -0.03\n",
       "Domestic.Beer..0.5.liter.draught.                                         -0.16\n",
       "Imported.Beer..0.33.liter.bottle.                                          0.17\n",
       "Cappuccino..regular.                                                      -0.26\n",
       "Coke.Pepsi..0.33.liter.bottle.                                            -0.11\n",
       "Water..0.33.liter.bottle.                                                 -0.22\n",
       "Milk..regular....1.liter..                                                 0.10\n",
       "Loaf.of.Fresh.White.Bread..500g.                                          -0.02\n",
       "Rice..white....1kg..                                                      -0.03\n",
       "Eggs..regular...12.                                                        0.04\n",
       "Local.Cheese..1kg.                                                         0.06\n",
       "Chicken.Fillets..1kg.                                                      0.17\n",
       "Beef.Round..1kg...or.Equivalent.Back.Leg.Red.Meat.                         0.24\n",
       "Apples..1kg.                                                              -0.01\n",
       "Banana..1kg.                                                               0.12\n",
       "Oranges..1kg.                                                             -0.05\n",
       "Tomato..1kg.                                                              -0.11\n",
       "Potato..1kg.                                                               0.14\n",
       "Onion..1kg.                                                               -0.09\n",
       "Lettuce..1.head.                                                          -0.11\n",
       "Water..1.5.liter.bottle.                                                  -0.14\n",
       "Bottle.of.Wine..Mid.Range.                                                -0.09\n",
       "Domestic.Beer..0.5.liter.bottle.                                           0.25\n",
       "Cigarettes.20.Pack..Marlboro.                                              0.11\n",
       "One.way.Ticket..Local.Transport.                                           0.22\n",
       "Monthly.Pass..Regular.Price.                                               0.18\n",
       "Taxi.Start..Normal.Tariff.                                                -0.13\n",
       "Taxi.1km..Normal.Tariff.                                                  -0.24\n",
       "Taxi.1hour.Waiting..Normal.Tariff.                                         0.11\n",
       "Gasoline..1.liter.                                                         0.08\n",
       "Volkswagen.Golf.1.4.90.KW.Trendline..Or.Equivalent.New.Car.                0.09\n",
       "Toyota.Corolla.Sedan.1.6l.97kW.Comfort..Or.Equivalent.New.Car.             0.29\n",
       "Basic..Electricity..Heating..Cooling..Water..Garbage..for.85m2.Apartment.  0.08\n",
       "X1.min..of.Prepaid.Mobile.Tariff.Local..No.Discounts.or.Plans.             0.25\n",
       "Internet..60.Mbps.or.More..Unlimited.Data..Cable.ADSL..                    0.03\n",
       "Fitness.Club..Monthly.Fee.for.1.Adult.                                    -0.17\n",
       "Tennis.Court.Rent..1.Hour.on.Weekend.                                      0.24\n",
       "Cinema..International.Release..1.Seat.                                     0.14\n",
       "Preschool..or.Kindergarten...Full.Day..Private..Monthly.for.1.Child.       0.06\n",
       "International.Primary.School..Yearly.for.1.Child.                          0.11\n",
       "X1.Pair.of.Jeans..Levis.501.Or.Similar.                                    0.08\n",
       "X1.Summer.Dress.in.a.Chain.Store..Zara..H.M.......                        -0.02\n",
       "X1.Pair.of.Nike.Running.Shoes..Mid.Range.                                 -0.01\n",
       "X1.Pair.of.Men.Leather.Business.Shoes                                     -0.08\n",
       "Apartment..1.bedroom..in.City.Centre                                      -0.06\n",
       "Apartment..1.bedroom..Outside.of.Centre                                   -0.03\n",
       "Apartment..3.bedrooms..in.City.Centre                                     -0.12\n",
       "Apartment..3.bedrooms..Outside.of.Centre                                  -0.11\n",
       "Price.per.Square.Meter.to.Buy.Apartment.in.City.Centre                    -0.07\n",
       "Price.per.Square.Meter.to.Buy.Apartment.Outside.of.Centre                  0.04"
      ]
     },
     "metadata": {},
     "output_type": "display_data"
    }
   ],
   "source": [
    "round(pcamod$rotation[,1:4], 2)"
   ]
  },
  {
   "cell_type": "markdown",
   "id": "ff196a49-f362-4ff8-9798-1e685ad41f62",
   "metadata": {},
   "source": [
    "### Principal Component 1"
   ]
  },
  {
   "cell_type": "markdown",
   "id": "e809e77e-a82a-4b57-ab2b-e15c4bd20caa",
   "metadata": {},
   "source": [
    "Below are the loadings for PC1 sorted by its absolute values. Variables which have the highest loading in terms of its magnitude will be at the top of the list while variables which have the lowest loading in terms of its magnitude will be at the bottom of the list. "
   ]
  },
  {
   "cell_type": "code",
   "execution_count": 6,
   "id": "439c0ebe-e4e8-4c39-bc85-d975bfde72e8",
   "metadata": {
    "tags": []
   },
   "outputs": [
    {
     "data": {
      "text/html": [
       "<table class=\"dataframe\">\n",
       "<caption>A data.frame: 6 × 1</caption>\n",
       "<thead>\n",
       "\t<tr><th></th><th scope=col>loading</th></tr>\n",
       "\t<tr><th></th><th scope=col>&lt;dbl&gt;</th></tr>\n",
       "</thead>\n",
       "<tbody>\n",
       "\t<tr><th scope=row>Apartment..1.bedroom..Outside.of.Centre</th><td>-0.32</td></tr>\n",
       "\t<tr><th scope=row>Apartment..1.bedroom..in.City.Centre</th><td>-0.31</td></tr>\n",
       "\t<tr><th scope=row>Apartment..3.bedrooms..in.City.Centre</th><td>-0.31</td></tr>\n",
       "\t<tr><th scope=row>Apartment..3.bedrooms..Outside.of.Centre</th><td>-0.31</td></tr>\n",
       "\t<tr><th scope=row>Price.per.Square.Meter.to.Buy.Apartment.in.City.Centre</th><td>-0.29</td></tr>\n",
       "\t<tr><th scope=row>Price.per.Square.Meter.to.Buy.Apartment.Outside.of.Centre</th><td>-0.29</td></tr>\n",
       "</tbody>\n",
       "</table>\n"
      ],
      "text/latex": [
       "A data.frame: 6 × 1\n",
       "\\begin{tabular}{r|l}\n",
       "  & loading\\\\\n",
       "  & <dbl>\\\\\n",
       "\\hline\n",
       "\tApartment..1.bedroom..Outside.of.Centre & -0.32\\\\\n",
       "\tApartment..1.bedroom..in.City.Centre & -0.31\\\\\n",
       "\tApartment..3.bedrooms..in.City.Centre & -0.31\\\\\n",
       "\tApartment..3.bedrooms..Outside.of.Centre & -0.31\\\\\n",
       "\tPrice.per.Square.Meter.to.Buy.Apartment.in.City.Centre & -0.29\\\\\n",
       "\tPrice.per.Square.Meter.to.Buy.Apartment.Outside.of.Centre & -0.29\\\\\n",
       "\\end{tabular}\n"
      ],
      "text/markdown": [
       "\n",
       "A data.frame: 6 × 1\n",
       "\n",
       "| <!--/--> | loading &lt;dbl&gt; |\n",
       "|---|---|\n",
       "| Apartment..1.bedroom..Outside.of.Centre | -0.32 |\n",
       "| Apartment..1.bedroom..in.City.Centre | -0.31 |\n",
       "| Apartment..3.bedrooms..in.City.Centre | -0.31 |\n",
       "| Apartment..3.bedrooms..Outside.of.Centre | -0.31 |\n",
       "| Price.per.Square.Meter.to.Buy.Apartment.in.City.Centre | -0.29 |\n",
       "| Price.per.Square.Meter.to.Buy.Apartment.Outside.of.Centre | -0.29 |\n",
       "\n"
      ],
      "text/plain": [
       "                                                          loading\n",
       "Apartment..1.bedroom..Outside.of.Centre                   -0.32  \n",
       "Apartment..1.bedroom..in.City.Centre                      -0.31  \n",
       "Apartment..3.bedrooms..in.City.Centre                     -0.31  \n",
       "Apartment..3.bedrooms..Outside.of.Centre                  -0.31  \n",
       "Price.per.Square.Meter.to.Buy.Apartment.in.City.Centre    -0.29  \n",
       "Price.per.Square.Meter.to.Buy.Apartment.Outside.of.Centre -0.29  "
      ]
     },
     "metadata": {},
     "output_type": "display_data"
    }
   ],
   "source": [
    "pc1_loadings_rounded <- data.frame(round(pcamod$rotation[,1],2))\n",
    "colnames(pc1_loadings_rounded) <- \"loading\"\n",
    "head(pc1_loadings_rounded |> arrange(desc(abs(loading))))"
   ]
  },
  {
   "cell_type": "markdown",
   "id": "e5ad855b-aaf8-4910-8c59-9abe67e54e0e",
   "metadata": {},
   "source": [
    "Here, almost all of the loadings are negative and variables that are at the top of the list are mostly related to the price to rent or buy an apartment. Thus, we can roughly interpret PC1 as scores for accommodation. Cities which have more expensive apartment price will get a lower score as it will be multiplied by a relatively big negative loading.\n",
    "\n",
    "The top 5 cities which has the highest scores for PC1 are:    \n",
    "(mainly correspond to less expensive accommodation price)"
   ]
  },
  {
   "cell_type": "code",
   "execution_count": 7,
   "id": "d7a1b09e-70fa-4328-8df9-07049ad7ed48",
   "metadata": {},
   "outputs": [
    {
     "data": {
      "text/html": [
       "<table class=\"dataframe\">\n",
       "<caption>A data.frame: 5 × 1</caption>\n",
       "<thead>\n",
       "\t<tr><th></th><th scope=col>score</th></tr>\n",
       "\t<tr><th></th><th scope=col>&lt;dbl&gt;</th></tr>\n",
       "</thead>\n",
       "<tbody>\n",
       "\t<tr><th scope=row>Sherbrooke</th><td>6.09</td></tr>\n",
       "\t<tr><th scope=row>Richmond</th><td>5.43</td></tr>\n",
       "\t<tr><th scope=row>Laval</th><td>3.83</td></tr>\n",
       "\t<tr><th scope=row>Gander-Canada</th><td>3.82</td></tr>\n",
       "\t<tr><th scope=row>Medicine-Hat</th><td>3.53</td></tr>\n",
       "</tbody>\n",
       "</table>\n"
      ],
      "text/latex": [
       "A data.frame: 5 × 1\n",
       "\\begin{tabular}{r|l}\n",
       "  & score\\\\\n",
       "  & <dbl>\\\\\n",
       "\\hline\n",
       "\tSherbrooke & 6.09\\\\\n",
       "\tRichmond & 5.43\\\\\n",
       "\tLaval & 3.83\\\\\n",
       "\tGander-Canada & 3.82\\\\\n",
       "\tMedicine-Hat & 3.53\\\\\n",
       "\\end{tabular}\n"
      ],
      "text/markdown": [
       "\n",
       "A data.frame: 5 × 1\n",
       "\n",
       "| <!--/--> | score &lt;dbl&gt; |\n",
       "|---|---|\n",
       "| Sherbrooke | 6.09 |\n",
       "| Richmond | 5.43 |\n",
       "| Laval | 3.83 |\n",
       "| Gander-Canada | 3.82 |\n",
       "| Medicine-Hat | 3.53 |\n",
       "\n"
      ],
      "text/plain": [
       "              score\n",
       "Sherbrooke    6.09 \n",
       "Richmond      5.43 \n",
       "Laval         3.83 \n",
       "Gander-Canada 3.82 \n",
       "Medicine-Hat  3.53 "
      ]
     },
     "metadata": {},
     "output_type": "display_data"
    }
   ],
   "source": [
    "pc1_scores <- data.frame(pcamod$x[,1][order(pcamod$x[,1], decreasing=TRUE)])\n",
    "colnames(pc1_scores) <- \"score\"\n",
    "head(round(pc1_scores,2), 5)"
   ]
  },
  {
   "cell_type": "markdown",
   "id": "0f942a5d-e5dc-4c27-bd28-86dcedde8622",
   "metadata": {},
   "source": [
    "The top 5 cities which has the lowest scores for PC1 are:   \n",
    "(mainly correspond to more expensive accommodation price)"
   ]
  },
  {
   "cell_type": "code",
   "execution_count": 8,
   "id": "7fede1cd-fcfa-48cf-bf2b-70b84c2b5b42",
   "metadata": {},
   "outputs": [
    {
     "data": {
      "text/html": [
       "<table class=\"dataframe\">\n",
       "<caption>A data.frame: 5 × 1</caption>\n",
       "<thead>\n",
       "\t<tr><th></th><th scope=col>score</th></tr>\n",
       "\t<tr><th></th><th scope=col>&lt;dbl&gt;</th></tr>\n",
       "</thead>\n",
       "<tbody>\n",
       "\t<tr><th scope=row>Whistler</th><td>-9.74</td></tr>\n",
       "\t<tr><th scope=row>Vancouver</th><td>-6.18</td></tr>\n",
       "\t<tr><th scope=row>Toronto</th><td>-5.25</td></tr>\n",
       "\t<tr><th scope=row>Sechelt-Canada</th><td>-5.23</td></tr>\n",
       "\t<tr><th scope=row>Oakville</th><td>-4.73</td></tr>\n",
       "</tbody>\n",
       "</table>\n"
      ],
      "text/latex": [
       "A data.frame: 5 × 1\n",
       "\\begin{tabular}{r|l}\n",
       "  & score\\\\\n",
       "  & <dbl>\\\\\n",
       "\\hline\n",
       "\tWhistler & -9.74\\\\\n",
       "\tVancouver & -6.18\\\\\n",
       "\tToronto & -5.25\\\\\n",
       "\tSechelt-Canada & -5.23\\\\\n",
       "\tOakville & -4.73\\\\\n",
       "\\end{tabular}\n"
      ],
      "text/markdown": [
       "\n",
       "A data.frame: 5 × 1\n",
       "\n",
       "| <!--/--> | score &lt;dbl&gt; |\n",
       "|---|---|\n",
       "| Whistler | -9.74 |\n",
       "| Vancouver | -6.18 |\n",
       "| Toronto | -5.25 |\n",
       "| Sechelt-Canada | -5.23 |\n",
       "| Oakville | -4.73 |\n",
       "\n"
      ],
      "text/plain": [
       "               score\n",
       "Whistler       -9.74\n",
       "Vancouver      -6.18\n",
       "Toronto        -5.25\n",
       "Sechelt-Canada -5.23\n",
       "Oakville       -4.73"
      ]
     },
     "metadata": {},
     "output_type": "display_data"
    }
   ],
   "source": [
    "pc1_scores <- data.frame(pcamod$x[,1][order(pcamod$x[,1], decreasing=FALSE)])\n",
    "colnames(pc1_scores) <- \"score\"\n",
    "head(round(pc1_scores,2), 5)"
   ]
  },
  {
   "cell_type": "markdown",
   "id": "c816b8d0-a57a-485d-91df-73b9766bf13d",
   "metadata": {},
   "source": [
    "### Principal Component 2"
   ]
  },
  {
   "cell_type": "markdown",
   "id": "4e7178fa-6ebf-42c4-af41-7d3335339ae9",
   "metadata": {},
   "source": [
    "Below are the loadings for PC2 sorted by its absolute values. Similar to the previous section, variables which have the highest loading in terms of its magnitude will be at the top of the list."
   ]
  },
  {
   "cell_type": "code",
   "execution_count": 9,
   "id": "b6390319-cfc4-4c6e-bfb7-07dd10859323",
   "metadata": {
    "tags": []
   },
   "outputs": [
    {
     "data": {
      "text/html": [
       "<table class=\"dataframe\">\n",
       "<caption>A data.frame: 6 × 1</caption>\n",
       "<thead>\n",
       "\t<tr><th></th><th scope=col>loading</th></tr>\n",
       "\t<tr><th></th><th scope=col>&lt;dbl&gt;</th></tr>\n",
       "</thead>\n",
       "<tbody>\n",
       "\t<tr><th scope=row>Apples..1kg.</th><td>-0.25</td></tr>\n",
       "\t<tr><th scope=row>Oranges..1kg.</th><td>-0.25</td></tr>\n",
       "\t<tr><th scope=row>Onion..1kg.</th><td>-0.24</td></tr>\n",
       "\t<tr><th scope=row>Lettuce..1.head.</th><td>-0.24</td></tr>\n",
       "\t<tr><th scope=row>Monthly.Pass..Regular.Price.</th><td> 0.23</td></tr>\n",
       "\t<tr><th scope=row>Rice..white....1kg..</th><td>-0.22</td></tr>\n",
       "</tbody>\n",
       "</table>\n"
      ],
      "text/latex": [
       "A data.frame: 6 × 1\n",
       "\\begin{tabular}{r|l}\n",
       "  & loading\\\\\n",
       "  & <dbl>\\\\\n",
       "\\hline\n",
       "\tApples..1kg. & -0.25\\\\\n",
       "\tOranges..1kg. & -0.25\\\\\n",
       "\tOnion..1kg. & -0.24\\\\\n",
       "\tLettuce..1.head. & -0.24\\\\\n",
       "\tMonthly.Pass..Regular.Price. &  0.23\\\\\n",
       "\tRice..white....1kg.. & -0.22\\\\\n",
       "\\end{tabular}\n"
      ],
      "text/markdown": [
       "\n",
       "A data.frame: 6 × 1\n",
       "\n",
       "| <!--/--> | loading &lt;dbl&gt; |\n",
       "|---|---|\n",
       "| Apples..1kg. | -0.25 |\n",
       "| Oranges..1kg. | -0.25 |\n",
       "| Onion..1kg. | -0.24 |\n",
       "| Lettuce..1.head. | -0.24 |\n",
       "| Monthly.Pass..Regular.Price. |  0.23 |\n",
       "| Rice..white....1kg.. | -0.22 |\n",
       "\n"
      ],
      "text/plain": [
       "                             loading\n",
       "Apples..1kg.                 -0.25  \n",
       "Oranges..1kg.                -0.25  \n",
       "Onion..1kg.                  -0.24  \n",
       "Lettuce..1.head.             -0.24  \n",
       "Monthly.Pass..Regular.Price.  0.23  \n",
       "Rice..white....1kg..         -0.22  "
      ]
     },
     "metadata": {},
     "output_type": "display_data"
    }
   ],
   "source": [
    "pc2_loadings_rounded <- data.frame(round(pcamod$rotation[,2],2))\n",
    "colnames(pc2_loadings_rounded) <- \"loading\"\n",
    "head(pc2_loadings_rounded |> arrange(desc(abs(loading))))"
   ]
  },
  {
   "cell_type": "markdown",
   "id": "58e621ee-a872-487f-8531-35927fdcd954",
   "metadata": {},
   "source": [
    "For PC2, most of the loadings at the top of the list are negative and related to the price of grocery items such as Apples, Oranges, Onion, Lettuce, and White Rice. Thus, we can roughly interpret PC2 as scores for groceries. Cities which grocery prices are more expensive will get a lower score. Whereas cities which grocery prices are less expensive will get a higher score."
   ]
  },
  {
   "cell_type": "markdown",
   "id": "3537447a-7a1d-4ed9-9258-2496dc6e6db1",
   "metadata": {},
   "source": [
    "The top 5 cities which has the highest score for PC2 are:   \n",
    "(mainly correspond to less expensive grocery price)"
   ]
  },
  {
   "cell_type": "code",
   "execution_count": 10,
   "id": "f30d6782-b2af-4ff2-867f-3d7e9733b25f",
   "metadata": {},
   "outputs": [
    {
     "data": {
      "text/html": [
       "<table class=\"dataframe\">\n",
       "<caption>A data.frame: 5 × 1</caption>\n",
       "<thead>\n",
       "\t<tr><th></th><th scope=col>score</th></tr>\n",
       "\t<tr><th></th><th scope=col>&lt;dbl&gt;</th></tr>\n",
       "</thead>\n",
       "<tbody>\n",
       "\t<tr><th scope=row>Pickering</th><td>7.00</td></tr>\n",
       "\t<tr><th scope=row>Richmond</th><td>3.91</td></tr>\n",
       "\t<tr><th scope=row>Richmond-Hill-Canada</th><td>3.71</td></tr>\n",
       "\t<tr><th scope=row>Markham</th><td>3.69</td></tr>\n",
       "\t<tr><th scope=row>Mississauga</th><td>3.68</td></tr>\n",
       "</tbody>\n",
       "</table>\n"
      ],
      "text/latex": [
       "A data.frame: 5 × 1\n",
       "\\begin{tabular}{r|l}\n",
       "  & score\\\\\n",
       "  & <dbl>\\\\\n",
       "\\hline\n",
       "\tPickering & 7.00\\\\\n",
       "\tRichmond & 3.91\\\\\n",
       "\tRichmond-Hill-Canada & 3.71\\\\\n",
       "\tMarkham & 3.69\\\\\n",
       "\tMississauga & 3.68\\\\\n",
       "\\end{tabular}\n"
      ],
      "text/markdown": [
       "\n",
       "A data.frame: 5 × 1\n",
       "\n",
       "| <!--/--> | score &lt;dbl&gt; |\n",
       "|---|---|\n",
       "| Pickering | 7.00 |\n",
       "| Richmond | 3.91 |\n",
       "| Richmond-Hill-Canada | 3.71 |\n",
       "| Markham | 3.69 |\n",
       "| Mississauga | 3.68 |\n",
       "\n"
      ],
      "text/plain": [
       "                     score\n",
       "Pickering            7.00 \n",
       "Richmond             3.91 \n",
       "Richmond-Hill-Canada 3.71 \n",
       "Markham              3.69 \n",
       "Mississauga          3.68 "
      ]
     },
     "metadata": {},
     "output_type": "display_data"
    }
   ],
   "source": [
    "pc2_scores <- data.frame(pcamod$x[,2][order(pcamod$x[,2], decreasing=TRUE)])\n",
    "colnames(pc2_scores) <- \"score\"\n",
    "head(round(pc2_scores,2), 5)"
   ]
  },
  {
   "cell_type": "markdown",
   "id": "66405251-3c58-4ba2-af9e-c94326ca4e7d",
   "metadata": {},
   "source": [
    "The top 5 cities which has the lowest score for PC2 are:   \n",
    "(mainly correspond to more expensive grocery price)"
   ]
  },
  {
   "cell_type": "code",
   "execution_count": 11,
   "id": "62cb8205-3911-4edc-93e0-eb33ca9957e8",
   "metadata": {},
   "outputs": [
    {
     "data": {
      "text/html": [
       "<table class=\"dataframe\">\n",
       "<caption>A data.frame: 5 × 1</caption>\n",
       "<thead>\n",
       "\t<tr><th></th><th scope=col>score</th></tr>\n",
       "\t<tr><th></th><th scope=col>&lt;dbl&gt;</th></tr>\n",
       "</thead>\n",
       "<tbody>\n",
       "\t<tr><th scope=row>Charlottetown</th><td>-8.439136</td></tr>\n",
       "\t<tr><th scope=row>Fort-Saskatchewan-Canada</th><td>-7.434267</td></tr>\n",
       "\t<tr><th scope=row>Sechelt-Canada</th><td>-7.210163</td></tr>\n",
       "\t<tr><th scope=row>Burlington</th><td>-4.639174</td></tr>\n",
       "\t<tr><th scope=row>Salmon Arm</th><td>-3.995560</td></tr>\n",
       "</tbody>\n",
       "</table>\n"
      ],
      "text/latex": [
       "A data.frame: 5 × 1\n",
       "\\begin{tabular}{r|l}\n",
       "  & score\\\\\n",
       "  & <dbl>\\\\\n",
       "\\hline\n",
       "\tCharlottetown & -8.439136\\\\\n",
       "\tFort-Saskatchewan-Canada & -7.434267\\\\\n",
       "\tSechelt-Canada & -7.210163\\\\\n",
       "\tBurlington & -4.639174\\\\\n",
       "\tSalmon Arm & -3.995560\\\\\n",
       "\\end{tabular}\n"
      ],
      "text/markdown": [
       "\n",
       "A data.frame: 5 × 1\n",
       "\n",
       "| <!--/--> | score &lt;dbl&gt; |\n",
       "|---|---|\n",
       "| Charlottetown | -8.439136 |\n",
       "| Fort-Saskatchewan-Canada | -7.434267 |\n",
       "| Sechelt-Canada | -7.210163 |\n",
       "| Burlington | -4.639174 |\n",
       "| Salmon Arm | -3.995560 |\n",
       "\n"
      ],
      "text/plain": [
       "                         score    \n",
       "Charlottetown            -8.439136\n",
       "Fort-Saskatchewan-Canada -7.434267\n",
       "Sechelt-Canada           -7.210163\n",
       "Burlington               -4.639174\n",
       "Salmon Arm               -3.995560"
      ]
     },
     "metadata": {},
     "output_type": "display_data"
    }
   ],
   "source": [
    "pc2_scores <- data.frame(pcamod$x[,2][order(pcamod$x[,2], decreasing=FALSE)])\n",
    "colnames(pc2_scores) <- \"score\"\n",
    "head(pc2_scores, 5)"
   ]
  },
  {
   "cell_type": "markdown",
   "id": "844c92c5-06bd-4e5c-9b2d-85d89b90ef2c",
   "metadata": {},
   "source": [
    "### Principal Component 3"
   ]
  },
  {
   "cell_type": "markdown",
   "id": "61a4d287-7a68-4d1b-88fb-5f79050d7966",
   "metadata": {},
   "source": [
    "Below are the loadings for PC3 sorted by its absolute values. Similar to the previous section, variables which have the highest loading in terms of its magnitude will be at the top of the list."
   ]
  },
  {
   "cell_type": "code",
   "execution_count": 12,
   "id": "fa3cef3d-d62b-4ff7-bfde-3365347944cb",
   "metadata": {},
   "outputs": [
    {
     "data": {
      "text/html": [
       "<table class=\"dataframe\">\n",
       "<caption>A data.frame: 10 × 1</caption>\n",
       "<thead>\n",
       "\t<tr><th></th><th scope=col>loading</th></tr>\n",
       "\t<tr><th></th><th scope=col>&lt;dbl&gt;</th></tr>\n",
       "</thead>\n",
       "<tbody>\n",
       "\t<tr><th scope=row>X1.Pair.of.Jeans..Levis.501.Or.Similar.</th><td>-0.34</td></tr>\n",
       "\t<tr><th scope=row>X1.Pair.of.Men.Leather.Business.Shoes</th><td>-0.27</td></tr>\n",
       "\t<tr><th scope=row>Taxi.1hour.Waiting..Normal.Tariff.</th><td>-0.26</td></tr>\n",
       "\t<tr><th scope=row>Gasoline..1.liter.</th><td>-0.22</td></tr>\n",
       "\t<tr><th scope=row>Meal..Inexpensive.Restaurant.</th><td>-0.21</td></tr>\n",
       "\t<tr><th scope=row>Taxi.Start..Normal.Tariff.</th><td> 0.21</td></tr>\n",
       "\t<tr><th scope=row>International.Primary.School..Yearly.for.1.Child.</th><td> 0.21</td></tr>\n",
       "\t<tr><th scope=row>X1.Pair.of.Nike.Running.Shoes..Mid.Range.</th><td>-0.21</td></tr>\n",
       "\t<tr><th scope=row>Cappuccino..regular.</th><td>-0.20</td></tr>\n",
       "\t<tr><th scope=row>Basic..Electricity..Heating..Cooling..Water..Garbage..for.85m2.Apartment.</th><td> 0.20</td></tr>\n",
       "</tbody>\n",
       "</table>\n"
      ],
      "text/latex": [
       "A data.frame: 10 × 1\n",
       "\\begin{tabular}{r|l}\n",
       "  & loading\\\\\n",
       "  & <dbl>\\\\\n",
       "\\hline\n",
       "\tX1.Pair.of.Jeans..Levis.501.Or.Similar. & -0.34\\\\\n",
       "\tX1.Pair.of.Men.Leather.Business.Shoes & -0.27\\\\\n",
       "\tTaxi.1hour.Waiting..Normal.Tariff. & -0.26\\\\\n",
       "\tGasoline..1.liter. & -0.22\\\\\n",
       "\tMeal..Inexpensive.Restaurant. & -0.21\\\\\n",
       "\tTaxi.Start..Normal.Tariff. &  0.21\\\\\n",
       "\tInternational.Primary.School..Yearly.for.1.Child. &  0.21\\\\\n",
       "\tX1.Pair.of.Nike.Running.Shoes..Mid.Range. & -0.21\\\\\n",
       "\tCappuccino..regular. & -0.20\\\\\n",
       "\tBasic..Electricity..Heating..Cooling..Water..Garbage..for.85m2.Apartment. &  0.20\\\\\n",
       "\\end{tabular}\n"
      ],
      "text/markdown": [
       "\n",
       "A data.frame: 10 × 1\n",
       "\n",
       "| <!--/--> | loading &lt;dbl&gt; |\n",
       "|---|---|\n",
       "| X1.Pair.of.Jeans..Levis.501.Or.Similar. | -0.34 |\n",
       "| X1.Pair.of.Men.Leather.Business.Shoes | -0.27 |\n",
       "| Taxi.1hour.Waiting..Normal.Tariff. | -0.26 |\n",
       "| Gasoline..1.liter. | -0.22 |\n",
       "| Meal..Inexpensive.Restaurant. | -0.21 |\n",
       "| Taxi.Start..Normal.Tariff. |  0.21 |\n",
       "| International.Primary.School..Yearly.for.1.Child. |  0.21 |\n",
       "| X1.Pair.of.Nike.Running.Shoes..Mid.Range. | -0.21 |\n",
       "| Cappuccino..regular. | -0.20 |\n",
       "| Basic..Electricity..Heating..Cooling..Water..Garbage..for.85m2.Apartment. |  0.20 |\n",
       "\n"
      ],
      "text/plain": [
       "                                                                          loading\n",
       "X1.Pair.of.Jeans..Levis.501.Or.Similar.                                   -0.34  \n",
       "X1.Pair.of.Men.Leather.Business.Shoes                                     -0.27  \n",
       "Taxi.1hour.Waiting..Normal.Tariff.                                        -0.26  \n",
       "Gasoline..1.liter.                                                        -0.22  \n",
       "Meal..Inexpensive.Restaurant.                                             -0.21  \n",
       "Taxi.Start..Normal.Tariff.                                                 0.21  \n",
       "International.Primary.School..Yearly.for.1.Child.                          0.21  \n",
       "X1.Pair.of.Nike.Running.Shoes..Mid.Range.                                 -0.21  \n",
       "Cappuccino..regular.                                                      -0.20  \n",
       "Basic..Electricity..Heating..Cooling..Water..Garbage..for.85m2.Apartment.  0.20  "
      ]
     },
     "metadata": {},
     "output_type": "display_data"
    }
   ],
   "source": [
    "pc3_loadings_rounded <- data.frame(round(pcamod$rotation[,3],2))\n",
    "colnames(pc3_loadings_rounded) <- \"loading\"\n",
    "head(pc3_loadings_rounded |> arrange(desc(abs(loading))),10)"
   ]
  },
  {
   "cell_type": "markdown",
   "id": "6285a8a9-79aa-4508-894b-d3dec6f5a5a4",
   "metadata": {},
   "source": [
    "It can be seen that for PC3, variables which are at the top of the list varies in categories. Personally, I would categorize these top variables into lifestyle category which include fashion, travel, and food. Since, most of the top variables are negative, cities with higher cost for lifestyle will get a lower score. "
   ]
  },
  {
   "cell_type": "markdown",
   "id": "686b16e6-2df2-48d9-872e-a7ba1677ed44",
   "metadata": {},
   "source": [
    "The top 5 cities which has the highest score for PC3 are:   \n",
    "(mainly correspond to less expensive lifestyle cost)"
   ]
  },
  {
   "cell_type": "code",
   "execution_count": 13,
   "id": "08b1b3d1-e14a-4012-94d6-7e16cbd618c3",
   "metadata": {},
   "outputs": [
    {
     "data": {
      "text/html": [
       "<table class=\"dataframe\">\n",
       "<caption>A data.frame: 5 × 1</caption>\n",
       "<thead>\n",
       "\t<tr><th></th><th scope=col>score</th></tr>\n",
       "\t<tr><th></th><th scope=col>&lt;dbl&gt;</th></tr>\n",
       "</thead>\n",
       "<tbody>\n",
       "\t<tr><th scope=row>Burlington</th><td>6.04</td></tr>\n",
       "\t<tr><th scope=row>Brampton</th><td>4.21</td></tr>\n",
       "\t<tr><th scope=row>Newmarket</th><td>3.92</td></tr>\n",
       "\t<tr><th scope=row>Charlottetown</th><td>3.87</td></tr>\n",
       "\t<tr><th scope=row>Richmond-Hill-Canada</th><td>3.41</td></tr>\n",
       "</tbody>\n",
       "</table>\n"
      ],
      "text/latex": [
       "A data.frame: 5 × 1\n",
       "\\begin{tabular}{r|l}\n",
       "  & score\\\\\n",
       "  & <dbl>\\\\\n",
       "\\hline\n",
       "\tBurlington & 6.04\\\\\n",
       "\tBrampton & 4.21\\\\\n",
       "\tNewmarket & 3.92\\\\\n",
       "\tCharlottetown & 3.87\\\\\n",
       "\tRichmond-Hill-Canada & 3.41\\\\\n",
       "\\end{tabular}\n"
      ],
      "text/markdown": [
       "\n",
       "A data.frame: 5 × 1\n",
       "\n",
       "| <!--/--> | score &lt;dbl&gt; |\n",
       "|---|---|\n",
       "| Burlington | 6.04 |\n",
       "| Brampton | 4.21 |\n",
       "| Newmarket | 3.92 |\n",
       "| Charlottetown | 3.87 |\n",
       "| Richmond-Hill-Canada | 3.41 |\n",
       "\n"
      ],
      "text/plain": [
       "                     score\n",
       "Burlington           6.04 \n",
       "Brampton             4.21 \n",
       "Newmarket            3.92 \n",
       "Charlottetown        3.87 \n",
       "Richmond-Hill-Canada 3.41 "
      ]
     },
     "metadata": {},
     "output_type": "display_data"
    }
   ],
   "source": [
    "pc3_scores <- data.frame(pcamod$x[,3][order(pcamod$x[,3], decreasing=TRUE)])\n",
    "colnames(pc3_scores) <- \"score\"\n",
    "head(round(pc3_scores,2), 5)"
   ]
  },
  {
   "cell_type": "markdown",
   "id": "535b4d19-3bdc-438a-a294-6eb19c8d7a77",
   "metadata": {},
   "source": [
    "The top 5 cities which has the lowest score for PC3 are:   \n",
    "(mainly correspond to more expensive lifestyle cost)"
   ]
  },
  {
   "cell_type": "code",
   "execution_count": 14,
   "id": "77e04586-94e6-42bd-9cd8-1fa0437b4afa",
   "metadata": {},
   "outputs": [
    {
     "data": {
      "text/html": [
       "<table class=\"dataframe\">\n",
       "<caption>A data.frame: 5 × 1</caption>\n",
       "<thead>\n",
       "\t<tr><th></th><th scope=col>score</th></tr>\n",
       "\t<tr><th></th><th scope=col>&lt;dbl&gt;</th></tr>\n",
       "</thead>\n",
       "<tbody>\n",
       "\t<tr><th scope=row>Mascouche-Canada</th><td>-7.26</td></tr>\n",
       "\t<tr><th scope=row>Brossard-Canada</th><td>-4.16</td></tr>\n",
       "\t<tr><th scope=row>Sechelt-Canada</th><td>-3.92</td></tr>\n",
       "\t<tr><th scope=row>Port-Alberni-Canada</th><td>-3.36</td></tr>\n",
       "\t<tr><th scope=row>Quebec City</th><td>-2.45</td></tr>\n",
       "</tbody>\n",
       "</table>\n"
      ],
      "text/latex": [
       "A data.frame: 5 × 1\n",
       "\\begin{tabular}{r|l}\n",
       "  & score\\\\\n",
       "  & <dbl>\\\\\n",
       "\\hline\n",
       "\tMascouche-Canada & -7.26\\\\\n",
       "\tBrossard-Canada & -4.16\\\\\n",
       "\tSechelt-Canada & -3.92\\\\\n",
       "\tPort-Alberni-Canada & -3.36\\\\\n",
       "\tQuebec City & -2.45\\\\\n",
       "\\end{tabular}\n"
      ],
      "text/markdown": [
       "\n",
       "A data.frame: 5 × 1\n",
       "\n",
       "| <!--/--> | score &lt;dbl&gt; |\n",
       "|---|---|\n",
       "| Mascouche-Canada | -7.26 |\n",
       "| Brossard-Canada | -4.16 |\n",
       "| Sechelt-Canada | -3.92 |\n",
       "| Port-Alberni-Canada | -3.36 |\n",
       "| Quebec City | -2.45 |\n",
       "\n"
      ],
      "text/plain": [
       "                    score\n",
       "Mascouche-Canada    -7.26\n",
       "Brossard-Canada     -4.16\n",
       "Sechelt-Canada      -3.92\n",
       "Port-Alberni-Canada -3.36\n",
       "Quebec City         -2.45"
      ]
     },
     "metadata": {},
     "output_type": "display_data"
    }
   ],
   "source": [
    "pc3_scores <- data.frame(pcamod$x[,3][order(pcamod$x[,3], decreasing=FALSE)])\n",
    "colnames(pc3_scores) <- \"score\"\n",
    "head(round(pc3_scores,2), 5)"
   ]
  },
  {
   "cell_type": "markdown",
   "id": "1045ea92-857b-4b25-9cf4-17dfe9ced895",
   "metadata": {},
   "source": [
    "### Principal Component 4"
   ]
  },
  {
   "cell_type": "markdown",
   "id": "db82c038-49e6-4ae4-aa9a-87c62fd62e42",
   "metadata": {},
   "source": [
    "Below are the loadings for PC4 sorted by its absolute values. Similar to the previous section, variables which have the highest loading in terms of its magnitude will be at the top of the list."
   ]
  },
  {
   "cell_type": "code",
   "execution_count": 15,
   "id": "19a02f8f-21c1-4f0e-98fb-57ad9bc1d9d3",
   "metadata": {},
   "outputs": [
    {
     "data": {
      "text/html": [
       "<table class=\"dataframe\">\n",
       "<caption>A data.frame: 10 × 1</caption>\n",
       "<thead>\n",
       "\t<tr><th></th><th scope=col>loading</th></tr>\n",
       "\t<tr><th></th><th scope=col>&lt;dbl&gt;</th></tr>\n",
       "</thead>\n",
       "<tbody>\n",
       "\t<tr><th scope=row>Toyota.Corolla.Sedan.1.6l.97kW.Comfort..Or.Equivalent.New.Car.</th><td> 0.29</td></tr>\n",
       "\t<tr><th scope=row>Cappuccino..regular.</th><td>-0.26</td></tr>\n",
       "\t<tr><th scope=row>Domestic.Beer..0.5.liter.bottle.</th><td> 0.25</td></tr>\n",
       "\t<tr><th scope=row>X1.min..of.Prepaid.Mobile.Tariff.Local..No.Discounts.or.Plans.</th><td> 0.25</td></tr>\n",
       "\t<tr><th scope=row>Beef.Round..1kg...or.Equivalent.Back.Leg.Red.Meat.</th><td> 0.24</td></tr>\n",
       "\t<tr><th scope=row>Taxi.1km..Normal.Tariff.</th><td>-0.24</td></tr>\n",
       "\t<tr><th scope=row>Tennis.Court.Rent..1.Hour.on.Weekend.</th><td> 0.24</td></tr>\n",
       "\t<tr><th scope=row>Water..0.33.liter.bottle.</th><td>-0.22</td></tr>\n",
       "\t<tr><th scope=row>One.way.Ticket..Local.Transport.</th><td> 0.22</td></tr>\n",
       "\t<tr><th scope=row>Meal..Inexpensive.Restaurant.</th><td>-0.21</td></tr>\n",
       "</tbody>\n",
       "</table>\n"
      ],
      "text/latex": [
       "A data.frame: 10 × 1\n",
       "\\begin{tabular}{r|l}\n",
       "  & loading\\\\\n",
       "  & <dbl>\\\\\n",
       "\\hline\n",
       "\tToyota.Corolla.Sedan.1.6l.97kW.Comfort..Or.Equivalent.New.Car. &  0.29\\\\\n",
       "\tCappuccino..regular. & -0.26\\\\\n",
       "\tDomestic.Beer..0.5.liter.bottle. &  0.25\\\\\n",
       "\tX1.min..of.Prepaid.Mobile.Tariff.Local..No.Discounts.or.Plans. &  0.25\\\\\n",
       "\tBeef.Round..1kg...or.Equivalent.Back.Leg.Red.Meat. &  0.24\\\\\n",
       "\tTaxi.1km..Normal.Tariff. & -0.24\\\\\n",
       "\tTennis.Court.Rent..1.Hour.on.Weekend. &  0.24\\\\\n",
       "\tWater..0.33.liter.bottle. & -0.22\\\\\n",
       "\tOne.way.Ticket..Local.Transport. &  0.22\\\\\n",
       "\tMeal..Inexpensive.Restaurant. & -0.21\\\\\n",
       "\\end{tabular}\n"
      ],
      "text/markdown": [
       "\n",
       "A data.frame: 10 × 1\n",
       "\n",
       "| <!--/--> | loading &lt;dbl&gt; |\n",
       "|---|---|\n",
       "| Toyota.Corolla.Sedan.1.6l.97kW.Comfort..Or.Equivalent.New.Car. |  0.29 |\n",
       "| Cappuccino..regular. | -0.26 |\n",
       "| Domestic.Beer..0.5.liter.bottle. |  0.25 |\n",
       "| X1.min..of.Prepaid.Mobile.Tariff.Local..No.Discounts.or.Plans. |  0.25 |\n",
       "| Beef.Round..1kg...or.Equivalent.Back.Leg.Red.Meat. |  0.24 |\n",
       "| Taxi.1km..Normal.Tariff. | -0.24 |\n",
       "| Tennis.Court.Rent..1.Hour.on.Weekend. |  0.24 |\n",
       "| Water..0.33.liter.bottle. | -0.22 |\n",
       "| One.way.Ticket..Local.Transport. |  0.22 |\n",
       "| Meal..Inexpensive.Restaurant. | -0.21 |\n",
       "\n"
      ],
      "text/plain": [
       "                                                               loading\n",
       "Toyota.Corolla.Sedan.1.6l.97kW.Comfort..Or.Equivalent.New.Car.  0.29  \n",
       "Cappuccino..regular.                                           -0.26  \n",
       "Domestic.Beer..0.5.liter.bottle.                                0.25  \n",
       "X1.min..of.Prepaid.Mobile.Tariff.Local..No.Discounts.or.Plans.  0.25  \n",
       "Beef.Round..1kg...or.Equivalent.Back.Leg.Red.Meat.              0.24  \n",
       "Taxi.1km..Normal.Tariff.                                       -0.24  \n",
       "Tennis.Court.Rent..1.Hour.on.Weekend.                           0.24  \n",
       "Water..0.33.liter.bottle.                                      -0.22  \n",
       "One.way.Ticket..Local.Transport.                                0.22  \n",
       "Meal..Inexpensive.Restaurant.                                  -0.21  "
      ]
     },
     "metadata": {},
     "output_type": "display_data"
    }
   ],
   "source": [
    "pc4_loadings_rounded <- data.frame(round(pcamod$rotation[,4],2))\n",
    "colnames(pc4_loadings_rounded) <- \"loading\"\n",
    "head(pc4_loadings_rounded |> arrange(desc(abs(loading))),10)"
   ]
  },
  {
   "cell_type": "markdown",
   "id": "acc1442c-156d-4bed-9870-e2354e0d1cc1",
   "metadata": {},
   "source": [
    "The interpretation for PC4 would be a little tricky as the top variables with the highest magnitude in loadings vary from price of cars, coffee, beer, prepaid mobile, beef, and etc. It is also notable that the highest magnitude loadings are positive. Hence, in general, cities which have a high price in cars, beer, prepaid mobile, and beef will have a higher score. \n",
    "\n",
    "To align the scores with the previous results, we can multiply the whole PC4 loadings/scores by -1 as it doesn't undermine the underlying mathematics."
   ]
  },
  {
   "cell_type": "markdown",
   "id": "2c143898-95cb-4861-a535-13ffbdfe91a6",
   "metadata": {},
   "source": [
    "The top 5 cities which has the highest score for PC4 are:    \n",
    "(after multiplying by -1)"
   ]
  },
  {
   "cell_type": "code",
   "execution_count": 16,
   "id": "25b86c1e-e876-4296-b7c8-4a9d6241deb2",
   "metadata": {},
   "outputs": [
    {
     "data": {
      "text/html": [
       "<table class=\"dataframe\">\n",
       "<caption>A data.frame: 5 × 1</caption>\n",
       "<thead>\n",
       "\t<tr><th></th><th scope=col>score</th></tr>\n",
       "\t<tr><th></th><th scope=col>&lt;dbl&gt;</th></tr>\n",
       "</thead>\n",
       "<tbody>\n",
       "\t<tr><th scope=row>Banff</th><td>6.08</td></tr>\n",
       "\t<tr><th scope=row>Burlington</th><td>4.82</td></tr>\n",
       "\t<tr><th scope=row>Richmond</th><td>3.25</td></tr>\n",
       "\t<tr><th scope=row>Whistler</th><td>3.11</td></tr>\n",
       "\t<tr><th scope=row>Courtenay-Canada</th><td>2.93</td></tr>\n",
       "</tbody>\n",
       "</table>\n"
      ],
      "text/latex": [
       "A data.frame: 5 × 1\n",
       "\\begin{tabular}{r|l}\n",
       "  & score\\\\\n",
       "  & <dbl>\\\\\n",
       "\\hline\n",
       "\tBanff & 6.08\\\\\n",
       "\tBurlington & 4.82\\\\\n",
       "\tRichmond & 3.25\\\\\n",
       "\tWhistler & 3.11\\\\\n",
       "\tCourtenay-Canada & 2.93\\\\\n",
       "\\end{tabular}\n"
      ],
      "text/markdown": [
       "\n",
       "A data.frame: 5 × 1\n",
       "\n",
       "| <!--/--> | score &lt;dbl&gt; |\n",
       "|---|---|\n",
       "| Banff | 6.08 |\n",
       "| Burlington | 4.82 |\n",
       "| Richmond | 3.25 |\n",
       "| Whistler | 3.11 |\n",
       "| Courtenay-Canada | 2.93 |\n",
       "\n"
      ],
      "text/plain": [
       "                 score\n",
       "Banff            6.08 \n",
       "Burlington       4.82 \n",
       "Richmond         3.25 \n",
       "Whistler         3.11 \n",
       "Courtenay-Canada 2.93 "
      ]
     },
     "metadata": {},
     "output_type": "display_data"
    }
   ],
   "source": [
    "pc4_scores <- data.frame(-pcamod$x[,4][order(-pcamod$x[,4], decreasing=TRUE)])\n",
    "colnames(pc4_scores) <- \"score\"\n",
    "head(round(pc4_scores,2), 5)"
   ]
  },
  {
   "cell_type": "markdown",
   "id": "bf31125e-0de0-4d8c-bf41-77efd5eaf4c2",
   "metadata": {},
   "source": [
    "The top 5 cities which has the lowest score for PC4 are:   \n",
    "(after multiplying by -1)"
   ]
  },
  {
   "cell_type": "code",
   "execution_count": 17,
   "id": "14a93be5-1a95-4889-92e8-e392660c2017",
   "metadata": {},
   "outputs": [
    {
     "data": {
      "text/html": [
       "<table class=\"dataframe\">\n",
       "<caption>A data.frame: 5 × 1</caption>\n",
       "<thead>\n",
       "\t<tr><th></th><th scope=col>score</th></tr>\n",
       "\t<tr><th></th><th scope=col>&lt;dbl&gt;</th></tr>\n",
       "</thead>\n",
       "<tbody>\n",
       "\t<tr><th scope=row>Sechelt-Canada</th><td>-5.92</td></tr>\n",
       "\t<tr><th scope=row>Mississauga</th><td>-2.57</td></tr>\n",
       "\t<tr><th scope=row>Newmarket</th><td>-2.56</td></tr>\n",
       "\t<tr><th scope=row>Oshawa</th><td>-2.17</td></tr>\n",
       "\t<tr><th scope=row>Richmond-Hill-Canada</th><td>-2.15</td></tr>\n",
       "</tbody>\n",
       "</table>\n"
      ],
      "text/latex": [
       "A data.frame: 5 × 1\n",
       "\\begin{tabular}{r|l}\n",
       "  & score\\\\\n",
       "  & <dbl>\\\\\n",
       "\\hline\n",
       "\tSechelt-Canada & -5.92\\\\\n",
       "\tMississauga & -2.57\\\\\n",
       "\tNewmarket & -2.56\\\\\n",
       "\tOshawa & -2.17\\\\\n",
       "\tRichmond-Hill-Canada & -2.15\\\\\n",
       "\\end{tabular}\n"
      ],
      "text/markdown": [
       "\n",
       "A data.frame: 5 × 1\n",
       "\n",
       "| <!--/--> | score &lt;dbl&gt; |\n",
       "|---|---|\n",
       "| Sechelt-Canada | -5.92 |\n",
       "| Mississauga | -2.57 |\n",
       "| Newmarket | -2.56 |\n",
       "| Oshawa | -2.17 |\n",
       "| Richmond-Hill-Canada | -2.15 |\n",
       "\n"
      ],
      "text/plain": [
       "                     score\n",
       "Sechelt-Canada       -5.92\n",
       "Mississauga          -2.57\n",
       "Newmarket            -2.56\n",
       "Oshawa               -2.17\n",
       "Richmond-Hill-Canada -2.15"
      ]
     },
     "metadata": {},
     "output_type": "display_data"
    }
   ],
   "source": [
    "pc4_scores <- data.frame(-pcamod$x[,4][order(-pcamod$x[,4], decreasing=FALSE)])\n",
    "colnames(pc4_scores) <- \"score\"\n",
    "head(round(pc4_scores,2), 5)"
   ]
  },
  {
   "cell_type": "markdown",
   "id": "809cba79-e009-4660-952f-3ee95c0fd1e7",
   "metadata": {},
   "source": [
    "### Cities Ranking\n",
    "\n",
    "The average scores across 4 components will be used to determine the cost of living ranking for each city. Since the loading of the highest magnitude variables are mostly negative, more expensive cities will get a lower score. Conversely, more affordable cities will get a higher score. Below are the top 10 most affordable Canadian cities to live in."
   ]
  },
  {
   "cell_type": "code",
   "execution_count": 18,
   "id": "56665285-8e89-414d-a70c-3c41815aa9de",
   "metadata": {},
   "outputs": [
    {
     "data": {
      "text/html": [
       "<table class=\"dataframe\">\n",
       "<caption>A data.frame: 10 × 5</caption>\n",
       "<thead>\n",
       "\t<tr><th></th><th scope=col>PC1</th><th scope=col>PC2</th><th scope=col>PC3</th><th scope=col>PC4</th><th scope=col>average</th></tr>\n",
       "\t<tr><th></th><th scope=col>&lt;dbl&gt;</th><th scope=col>&lt;dbl&gt;</th><th scope=col>&lt;dbl&gt;</th><th scope=col>&lt;dbl&gt;</th><th scope=col>&lt;dbl&gt;</th></tr>\n",
       "</thead>\n",
       "<tbody>\n",
       "\t<tr><th scope=row>Richmond</th><td> 5.4331687</td><td> 3.9148548</td><td> 1.3564787</td><td> 3.2510595</td><td>3.4888904</td></tr>\n",
       "\t<tr><th scope=row>Burlington</th><td> 2.4232554</td><td>-4.6391739</td><td> 6.0435990</td><td> 4.8222158</td><td>2.1624741</td></tr>\n",
       "\t<tr><th scope=row>Pickering</th><td> 0.7369220</td><td> 6.9963444</td><td>-0.1626951</td><td>-1.1171192</td><td>1.6133630</td></tr>\n",
       "\t<tr><th scope=row>Gander-Canada</th><td> 3.8209054</td><td>-1.1973388</td><td> 3.3217771</td><td>-0.1924950</td><td>1.4382122</td></tr>\n",
       "\t<tr><th scope=row>Laval</th><td> 3.8256681</td><td> 3.0691506</td><td>-1.0739295</td><td>-0.3917668</td><td>1.3572806</td></tr>\n",
       "\t<tr><th scope=row>Gatineau</th><td> 3.1105099</td><td> 1.4640957</td><td> 0.3107344</td><td> 0.3438253</td><td>1.3072913</td></tr>\n",
       "\t<tr><th scope=row>Brampton</th><td> 0.2856988</td><td> 2.2386104</td><td> 4.2137011</td><td>-2.0652600</td><td>1.1681876</td></tr>\n",
       "\t<tr><th scope=row>Medicine-Hat</th><td> 3.5272592</td><td> 0.2423750</td><td> 2.1084307</td><td>-1.2323020</td><td>1.1614407</td></tr>\n",
       "\t<tr><th scope=row>Belleville</th><td> 1.6437511</td><td> 0.3141816</td><td> 1.1184581</td><td> 1.1468324</td><td>1.0558058</td></tr>\n",
       "\t<tr><th scope=row>Banff</th><td>-1.9042681</td><td>-0.5892914</td><td> 0.2242097</td><td> 6.0752043</td><td>0.9514636</td></tr>\n",
       "</tbody>\n",
       "</table>\n"
      ],
      "text/latex": [
       "A data.frame: 10 × 5\n",
       "\\begin{tabular}{r|lllll}\n",
       "  & PC1 & PC2 & PC3 & PC4 & average\\\\\n",
       "  & <dbl> & <dbl> & <dbl> & <dbl> & <dbl>\\\\\n",
       "\\hline\n",
       "\tRichmond &  5.4331687 &  3.9148548 &  1.3564787 &  3.2510595 & 3.4888904\\\\\n",
       "\tBurlington &  2.4232554 & -4.6391739 &  6.0435990 &  4.8222158 & 2.1624741\\\\\n",
       "\tPickering &  0.7369220 &  6.9963444 & -0.1626951 & -1.1171192 & 1.6133630\\\\\n",
       "\tGander-Canada &  3.8209054 & -1.1973388 &  3.3217771 & -0.1924950 & 1.4382122\\\\\n",
       "\tLaval &  3.8256681 &  3.0691506 & -1.0739295 & -0.3917668 & 1.3572806\\\\\n",
       "\tGatineau &  3.1105099 &  1.4640957 &  0.3107344 &  0.3438253 & 1.3072913\\\\\n",
       "\tBrampton &  0.2856988 &  2.2386104 &  4.2137011 & -2.0652600 & 1.1681876\\\\\n",
       "\tMedicine-Hat &  3.5272592 &  0.2423750 &  2.1084307 & -1.2323020 & 1.1614407\\\\\n",
       "\tBelleville &  1.6437511 &  0.3141816 &  1.1184581 &  1.1468324 & 1.0558058\\\\\n",
       "\tBanff & -1.9042681 & -0.5892914 &  0.2242097 &  6.0752043 & 0.9514636\\\\\n",
       "\\end{tabular}\n"
      ],
      "text/markdown": [
       "\n",
       "A data.frame: 10 × 5\n",
       "\n",
       "| <!--/--> | PC1 &lt;dbl&gt; | PC2 &lt;dbl&gt; | PC3 &lt;dbl&gt; | PC4 &lt;dbl&gt; | average &lt;dbl&gt; |\n",
       "|---|---|---|---|---|---|\n",
       "| Richmond |  5.4331687 |  3.9148548 |  1.3564787 |  3.2510595 | 3.4888904 |\n",
       "| Burlington |  2.4232554 | -4.6391739 |  6.0435990 |  4.8222158 | 2.1624741 |\n",
       "| Pickering |  0.7369220 |  6.9963444 | -0.1626951 | -1.1171192 | 1.6133630 |\n",
       "| Gander-Canada |  3.8209054 | -1.1973388 |  3.3217771 | -0.1924950 | 1.4382122 |\n",
       "| Laval |  3.8256681 |  3.0691506 | -1.0739295 | -0.3917668 | 1.3572806 |\n",
       "| Gatineau |  3.1105099 |  1.4640957 |  0.3107344 |  0.3438253 | 1.3072913 |\n",
       "| Brampton |  0.2856988 |  2.2386104 |  4.2137011 | -2.0652600 | 1.1681876 |\n",
       "| Medicine-Hat |  3.5272592 |  0.2423750 |  2.1084307 | -1.2323020 | 1.1614407 |\n",
       "| Belleville |  1.6437511 |  0.3141816 |  1.1184581 |  1.1468324 | 1.0558058 |\n",
       "| Banff | -1.9042681 | -0.5892914 |  0.2242097 |  6.0752043 | 0.9514636 |\n",
       "\n"
      ],
      "text/plain": [
       "              PC1        PC2        PC3        PC4        average  \n",
       "Richmond       5.4331687  3.9148548  1.3564787  3.2510595 3.4888904\n",
       "Burlington     2.4232554 -4.6391739  6.0435990  4.8222158 2.1624741\n",
       "Pickering      0.7369220  6.9963444 -0.1626951 -1.1171192 1.6133630\n",
       "Gander-Canada  3.8209054 -1.1973388  3.3217771 -0.1924950 1.4382122\n",
       "Laval          3.8256681  3.0691506 -1.0739295 -0.3917668 1.3572806\n",
       "Gatineau       3.1105099  1.4640957  0.3107344  0.3438253 1.3072913\n",
       "Brampton       0.2856988  2.2386104  4.2137011 -2.0652600 1.1681876\n",
       "Medicine-Hat   3.5272592  0.2423750  2.1084307 -1.2323020 1.1614407\n",
       "Belleville     1.6437511  0.3141816  1.1184581  1.1468324 1.0558058\n",
       "Banff         -1.9042681 -0.5892914  0.2242097  6.0752043 0.9514636"
      ]
     },
     "metadata": {},
     "output_type": "display_data"
    }
   ],
   "source": [
    "scores <- data.frame(pcamod$x[,c(1,2,3)], -pcamod$x[,4])\n",
    "colnames(scores) <- c(\"PC1\",\"PC2\",\"PC3\",\"PC4\")\n",
    "scores['average'] <- NA\n",
    "\n",
    "for (i in 1:70){\n",
    "    scores[i,5] <- mean(unlist(scores[i,1:4]))\n",
    "}\n",
    "\n",
    "head(scores[rownames(scores)[order(scores$average, decreasing=TRUE)],],10)"
   ]
  },
  {
   "cell_type": "markdown",
   "id": "d91644e7-d317-4faa-8bdb-4cbb91624ec9",
   "metadata": {},
   "source": [
    "It turns out that Richmond came in first place. Hence, Richmond is one of the most affordable Canadian city to live in based on an average score of 4 principal components.\n",
    "\n",
    "Since we have looked at the cost of living ranking, we should also look at the salary ranking for the cities. Below are top 25 cities with the highest average salary."
   ]
  },
  {
   "cell_type": "code",
   "execution_count": 30,
   "id": "6d581cb7-384e-40c7-b1b9-ed22474eeec2",
   "metadata": {},
   "outputs": [
    {
     "data": {
      "text/html": [
       "<table class=\"dataframe\">\n",
       "<caption>A data.frame: 25 × 2</caption>\n",
       "<thead>\n",
       "\t<tr><th></th><th scope=col>City</th><th scope=col>Salary</th></tr>\n",
       "\t<tr><th></th><th scope=col>&lt;chr&gt;</th><th scope=col>&lt;dbl&gt;</th></tr>\n",
       "</thead>\n",
       "<tbody>\n",
       "\t<tr><th scope=row>1</th><td>North Vancouver         </td><td>6243.75</td></tr>\n",
       "\t<tr><th scope=row>2</th><td>Whitby                  </td><td>6183.33</td></tr>\n",
       "\t<tr><th scope=row>3</th><td>Burlington              </td><td>5083.33</td></tr>\n",
       "\t<tr><th scope=row>4</th><td>Pickering               </td><td>5066.67</td></tr>\n",
       "\t<tr><th scope=row>5</th><td>Brossard-Canada         </td><td>4958.33</td></tr>\n",
       "\t<tr><th scope=row>6</th><td>Toronto                 </td><td>4916.43</td></tr>\n",
       "\t<tr><th scope=row>7</th><td>Markham                 </td><td>4815.07</td></tr>\n",
       "\t<tr><th scope=row>8</th><td>Fort-Saskatchewan-Canada</td><td>4727.78</td></tr>\n",
       "\t<tr><th scope=row>9</th><td>Burnaby                 </td><td>4596.94</td></tr>\n",
       "\t<tr><th scope=row>10</th><td>Red Deer                </td><td>4533.80</td></tr>\n",
       "\t<tr><th scope=row>11</th><td>Surrey                  </td><td>4499.73</td></tr>\n",
       "\t<tr><th scope=row>12</th><td>Mississauga             </td><td>4496.41</td></tr>\n",
       "\t<tr><th scope=row>13</th><td>Calgary                 </td><td>4488.34</td></tr>\n",
       "\t<tr><th scope=row>14</th><td>Vancouver               </td><td>4481.56</td></tr>\n",
       "\t<tr><th scope=row>15</th><td>Oakville                </td><td>4414.18</td></tr>\n",
       "\t<tr><th scope=row>16</th><td>Victoria                </td><td>4380.10</td></tr>\n",
       "\t<tr><th scope=row>17</th><td>Edmonton                </td><td>4290.23</td></tr>\n",
       "\t<tr><th scope=row>18</th><td>London                  </td><td>4250.07</td></tr>\n",
       "\t<tr><th scope=row>19</th><td>Coquitlam               </td><td>4194.44</td></tr>\n",
       "\t<tr><th scope=row>20</th><td>Brampton                </td><td>4184.21</td></tr>\n",
       "\t<tr><th scope=row>21</th><td>Banff                   </td><td>4112.50</td></tr>\n",
       "\t<tr><th scope=row>22</th><td>Regina                  </td><td>4086.71</td></tr>\n",
       "\t<tr><th scope=row>23</th><td>Richmond                </td><td>4057.00</td></tr>\n",
       "\t<tr><th scope=row>24</th><td>Ottawa                  </td><td>4051.66</td></tr>\n",
       "\t<tr><th scope=row>25</th><td>Richmond-Hill-Canada    </td><td>3925.00</td></tr>\n",
       "</tbody>\n",
       "</table>\n"
      ],
      "text/latex": [
       "A data.frame: 25 × 2\n",
       "\\begin{tabular}{r|ll}\n",
       "  & City & Salary\\\\\n",
       "  & <chr> & <dbl>\\\\\n",
       "\\hline\n",
       "\t1 & North Vancouver          & 6243.75\\\\\n",
       "\t2 & Whitby                   & 6183.33\\\\\n",
       "\t3 & Burlington               & 5083.33\\\\\n",
       "\t4 & Pickering                & 5066.67\\\\\n",
       "\t5 & Brossard-Canada          & 4958.33\\\\\n",
       "\t6 & Toronto                  & 4916.43\\\\\n",
       "\t7 & Markham                  & 4815.07\\\\\n",
       "\t8 & Fort-Saskatchewan-Canada & 4727.78\\\\\n",
       "\t9 & Burnaby                  & 4596.94\\\\\n",
       "\t10 & Red Deer                 & 4533.80\\\\\n",
       "\t11 & Surrey                   & 4499.73\\\\\n",
       "\t12 & Mississauga              & 4496.41\\\\\n",
       "\t13 & Calgary                  & 4488.34\\\\\n",
       "\t14 & Vancouver                & 4481.56\\\\\n",
       "\t15 & Oakville                 & 4414.18\\\\\n",
       "\t16 & Victoria                 & 4380.10\\\\\n",
       "\t17 & Edmonton                 & 4290.23\\\\\n",
       "\t18 & London                   & 4250.07\\\\\n",
       "\t19 & Coquitlam                & 4194.44\\\\\n",
       "\t20 & Brampton                 & 4184.21\\\\\n",
       "\t21 & Banff                    & 4112.50\\\\\n",
       "\t22 & Regina                   & 4086.71\\\\\n",
       "\t23 & Richmond                 & 4057.00\\\\\n",
       "\t24 & Ottawa                   & 4051.66\\\\\n",
       "\t25 & Richmond-Hill-Canada     & 3925.00\\\\\n",
       "\\end{tabular}\n"
      ],
      "text/markdown": [
       "\n",
       "A data.frame: 25 × 2\n",
       "\n",
       "| <!--/--> | City &lt;chr&gt; | Salary &lt;dbl&gt; |\n",
       "|---|---|---|\n",
       "| 1 | North Vancouver          | 6243.75 |\n",
       "| 2 | Whitby                   | 6183.33 |\n",
       "| 3 | Burlington               | 5083.33 |\n",
       "| 4 | Pickering                | 5066.67 |\n",
       "| 5 | Brossard-Canada          | 4958.33 |\n",
       "| 6 | Toronto                  | 4916.43 |\n",
       "| 7 | Markham                  | 4815.07 |\n",
       "| 8 | Fort-Saskatchewan-Canada | 4727.78 |\n",
       "| 9 | Burnaby                  | 4596.94 |\n",
       "| 10 | Red Deer                 | 4533.80 |\n",
       "| 11 | Surrey                   | 4499.73 |\n",
       "| 12 | Mississauga              | 4496.41 |\n",
       "| 13 | Calgary                  | 4488.34 |\n",
       "| 14 | Vancouver                | 4481.56 |\n",
       "| 15 | Oakville                 | 4414.18 |\n",
       "| 16 | Victoria                 | 4380.10 |\n",
       "| 17 | Edmonton                 | 4290.23 |\n",
       "| 18 | London                   | 4250.07 |\n",
       "| 19 | Coquitlam                | 4194.44 |\n",
       "| 20 | Brampton                 | 4184.21 |\n",
       "| 21 | Banff                    | 4112.50 |\n",
       "| 22 | Regina                   | 4086.71 |\n",
       "| 23 | Richmond                 | 4057.00 |\n",
       "| 24 | Ottawa                   | 4051.66 |\n",
       "| 25 | Richmond-Hill-Canada     | 3925.00 |\n",
       "\n"
      ],
      "text/plain": [
       "   City                     Salary \n",
       "1  North Vancouver          6243.75\n",
       "2  Whitby                   6183.33\n",
       "3  Burlington               5083.33\n",
       "4  Pickering                5066.67\n",
       "5  Brossard-Canada          4958.33\n",
       "6  Toronto                  4916.43\n",
       "7  Markham                  4815.07\n",
       "8  Fort-Saskatchewan-Canada 4727.78\n",
       "9  Burnaby                  4596.94\n",
       "10 Red Deer                 4533.80\n",
       "11 Surrey                   4499.73\n",
       "12 Mississauga              4496.41\n",
       "13 Calgary                  4488.34\n",
       "14 Vancouver                4481.56\n",
       "15 Oakville                 4414.18\n",
       "16 Victoria                 4380.10\n",
       "17 Edmonton                 4290.23\n",
       "18 London                   4250.07\n",
       "19 Coquitlam                4194.44\n",
       "20 Brampton                 4184.21\n",
       "21 Banff                    4112.50\n",
       "22 Regina                   4086.71\n",
       "23 Richmond                 4057.00\n",
       "24 Ottawa                   4051.66\n",
       "25 Richmond-Hill-Canada     3925.00"
      ]
     },
     "metadata": {},
     "output_type": "display_data"
    }
   ],
   "source": [
    "salrank <- costofliving[,c(1,55)]\n",
    "colnames(salrank) <- c(\"City\", \"Salary\")\n",
    "head(salrank[order(salrank$Salary, decreasing=TRUE),],25)"
   ]
  },
  {
   "cell_type": "markdown",
   "id": "984e930f-2985-4d0a-9c4c-4d4e8c7224be",
   "metadata": {},
   "source": [
    "### Conclusion"
   ]
  },
  {
   "cell_type": "markdown",
   "id": "8815a52e-d6ee-4a1f-a975-6bb819c10b15",
   "metadata": {},
   "source": [
    "Based on the salary ranking, Richmond came in 23rd, which is not that bad and still above average, considering there are 70 cities in this dataset.\n",
    "\n",
    "However, notice that there are four cities located around Richmond that have higher average salaries than Richmond. Those cities are North Vancouver (1st), Burnaby (9th), Surrey (11th), and Vancouver (14th).\n",
    "\n",
    "Therefore, the best strategy in choosing the best city to live in would be to live in Richmond where it is most affordable but get a job in those four surrounding cities where the average salary is higher.\n",
    "\n",
    "Of course, apart from the financial aspect, there are lots of other things to consider in choosing where to live. But, hopefully this project can serve as a guide or starting point in deciding the best Canadian city to live in."
   ]
  }
 ],
 "metadata": {
  "kernelspec": {
   "display_name": "R",
   "language": "R",
   "name": "ir"
  },
  "language_info": {
   "codemirror_mode": "r",
   "file_extension": ".r",
   "mimetype": "text/x-r-source",
   "name": "R",
   "pygments_lexer": "r",
   "version": "4.1.1"
  }
 },
 "nbformat": 4,
 "nbformat_minor": 5
}
